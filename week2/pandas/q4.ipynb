{
 "cells": [
  {
   "cell_type": "markdown",
   "source": [
    "Create a 4x4 NumPy array filled with random integers between 1 and 100. Then, reshape this array into two separate 2D arrays, where one represents the rows and the other represents the columns. Write a function, preferably using a lambda function, to calculate the sum of each row and each column separately, and return the results as two separate NumPy arrays"
   ],
   "metadata": {
    "collapsed": false
   },
   "id": "5378a55c8c1bcc4f"
  },
  {
   "cell_type": "code",
   "outputs": [],
   "source": [
    "import numpy as np"
   ],
   "metadata": {
    "collapsed": true,
    "ExecuteTime": {
     "end_time": "2024-03-12T01:18:54.762802Z",
     "start_time": "2024-03-12T01:18:54.650744Z"
    }
   },
   "id": "initial_id",
   "execution_count": 1
  },
  {
   "cell_type": "code",
   "outputs": [
    {
     "name": "stdout",
     "output_type": "stream",
     "text": [
      "[[ 97  14  60  76]\n",
      " [  4  45  21  28]\n",
      " [ 30  43  61  67]\n",
      " [100  46   8  15]]\n"
     ]
    }
   ],
   "source": [
    "array = np.random.randint(1,101,(4,4))\n",
    "print(array)"
   ],
   "metadata": {
    "collapsed": false,
    "ExecuteTime": {
     "end_time": "2024-03-12T01:19:17.827498Z",
     "start_time": "2024-03-12T01:19:17.823213Z"
    }
   },
   "id": "9346cfe362270c7e",
   "execution_count": 3
  },
  {
   "cell_type": "code",
   "outputs": [
    {
     "name": "stdout",
     "output_type": "stream",
     "text": [
      "[[ 97  14  60  76   4  45  21  28]\n",
      " [ 30  43  61  67 100  46   8  15]] [[ 97  14]\n",
      " [ 60  76]\n",
      " [  4  45]\n",
      " [ 21  28]\n",
      " [ 30  43]\n",
      " [ 61  67]\n",
      " [100  46]\n",
      " [  8  15]]\n"
     ]
    }
   ],
   "source": [
    "rows = array.reshape(2,8)\n",
    "columns = array.reshape(8,2)\n",
    "print(rows, columns)"
   ],
   "metadata": {
    "collapsed": false,
    "ExecuteTime": {
     "end_time": "2024-03-12T01:28:08.972438Z",
     "start_time": "2024-03-12T01:28:08.967355Z"
    }
   },
   "id": "57b9319dacc6649d",
   "execution_count": 7
  },
  {
   "cell_type": "code",
   "outputs": [],
   "source": [
    "sum_row = lambda array: np.sum(array, axis=1)\n",
    "sum_column = lambda array: np.sum(array, axis=0)"
   ],
   "metadata": {
    "collapsed": false,
    "ExecuteTime": {
     "end_time": "2024-03-12T01:30:07.652399Z",
     "start_time": "2024-03-12T01:30:07.641270Z"
    }
   },
   "id": "68dbf0053cfd961",
   "execution_count": 8
  },
  {
   "cell_type": "code",
   "outputs": [],
   "source": [
    "sum_rows_result = sum_row(rows)\n",
    "sum_columns_result = sum_column(columns)"
   ],
   "metadata": {
    "collapsed": false,
    "ExecuteTime": {
     "end_time": "2024-03-12T01:30:08.620985Z",
     "start_time": "2024-03-12T01:30:08.610281Z"
    }
   },
   "id": "f1156039828ad490",
   "execution_count": 9
  },
  {
   "cell_type": "code",
   "outputs": [
    {
     "name": "stdout",
     "output_type": "stream",
     "text": [
      "[345 370] [381 334]\n"
     ]
    }
   ],
   "source": [
    "print(sum_rows_result, sum_columns_result)"
   ],
   "metadata": {
    "collapsed": false,
    "ExecuteTime": {
     "end_time": "2024-03-12T01:30:23.586431Z",
     "start_time": "2024-03-12T01:30:23.581234Z"
    }
   },
   "id": "f227dcaa4ee7cff3",
   "execution_count": 10
  },
  {
   "cell_type": "code",
   "outputs": [],
   "source": [],
   "metadata": {
    "collapsed": false
   },
   "id": "d5116c044618e056"
  }
 ],
 "metadata": {
  "kernelspec": {
   "display_name": "Python 3",
   "language": "python",
   "name": "python3"
  },
  "language_info": {
   "codemirror_mode": {
    "name": "ipython",
    "version": 2
   },
   "file_extension": ".py",
   "mimetype": "text/x-python",
   "name": "python",
   "nbconvert_exporter": "python",
   "pygments_lexer": "ipython2",
   "version": "2.7.6"
  }
 },
 "nbformat": 4,
 "nbformat_minor": 5
}
