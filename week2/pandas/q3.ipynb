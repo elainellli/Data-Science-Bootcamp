{
 "cells": [
  {
   "cell_type": "markdown",
   "source": [
    "How to get the rows of a dataframe with row sum > 100?"
   ],
   "metadata": {
    "collapsed": false
   },
   "id": "24b181acf58850e1"
  },
  {
   "cell_type": "code",
   "outputs": [],
   "source": [
    "import numpy as np\n",
    "import pandas as pd"
   ],
   "metadata": {
    "collapsed": true,
    "ExecuteTime": {
     "end_time": "2024-03-10T15:40:20.804118Z",
     "start_time": "2024-03-10T15:40:20.208876Z"
    }
   },
   "id": "initial_id",
   "execution_count": 1
  },
  {
   "cell_type": "code",
   "outputs": [],
   "source": [
    "df = pd.DataFrame(np.random.randint(10, 40, 60).reshape(-1, 4))"
   ],
   "metadata": {
    "collapsed": false,
    "ExecuteTime": {
     "end_time": "2024-03-10T15:40:20.817823Z",
     "start_time": "2024-03-10T15:40:20.805563Z"
    }
   },
   "id": "e53f2437e05ae0b6",
   "execution_count": 2
  },
  {
   "cell_type": "code",
   "outputs": [
    {
     "name": "stdout",
     "output_type": "stream",
     "text": [
      "     0   1   2   3\n",
      "0   27  25  10  36\n",
      "1   37  24  15  17\n",
      "2   14  23  35  37\n",
      "3   26  32  22  14\n",
      "4   39  16  33  29\n",
      "5   18  38  39  24\n",
      "6   11  22  16  32\n",
      "7   28  32  26  21\n",
      "8   36  31  24  19\n",
      "9   11  16  24  20\n",
      "10  37  20  32  24\n",
      "11  21  33  30  33\n",
      "12  21  30  28  20\n",
      "13  12  18  22  22\n",
      "14  18  36  10  18\n"
     ]
    }
   ],
   "source": [
    "print(df)"
   ],
   "metadata": {
    "collapsed": false,
    "ExecuteTime": {
     "end_time": "2024-03-10T15:46:35.303200Z",
     "start_time": "2024-03-10T15:46:35.298723Z"
    }
   },
   "id": "959afd48cbb6b4c4",
   "execution_count": 12
  },
  {
   "cell_type": "code",
   "outputs": [],
   "source": [
    "rows = df[df.sum(axis=1)>100]"
   ],
   "metadata": {
    "collapsed": false,
    "ExecuteTime": {
     "end_time": "2024-03-10T15:46:43.690491Z",
     "start_time": "2024-03-10T15:46:43.685070Z"
    }
   },
   "id": "8b7cd662d42d8bd3",
   "execution_count": 13
  },
  {
   "cell_type": "code",
   "outputs": [
    {
     "name": "stdout",
     "output_type": "stream",
     "text": [
      "     0   1   2   3\n",
      "2   14  23  35  37\n",
      "4   39  16  33  29\n",
      "5   18  38  39  24\n",
      "7   28  32  26  21\n",
      "8   36  31  24  19\n",
      "10  37  20  32  24\n",
      "11  21  33  30  33\n"
     ]
    }
   ],
   "source": [
    "print(rows)"
   ],
   "metadata": {
    "collapsed": false,
    "ExecuteTime": {
     "end_time": "2024-03-10T15:46:44.509540Z",
     "start_time": "2024-03-10T15:46:44.504472Z"
    }
   },
   "id": "7cb39accf3a90859",
   "execution_count": 14
  },
  {
   "cell_type": "code",
   "outputs": [],
   "source": [],
   "metadata": {
    "collapsed": false
   },
   "id": "7c403a4f42772c5d"
  }
 ],
 "metadata": {
  "kernelspec": {
   "display_name": "Python 3",
   "language": "python",
   "name": "python3"
  },
  "language_info": {
   "codemirror_mode": {
    "name": "ipython",
    "version": 2
   },
   "file_extension": ".py",
   "mimetype": "text/x-python",
   "name": "python",
   "nbconvert_exporter": "python",
   "pygments_lexer": "ipython2",
   "version": "2.7.6"
  }
 },
 "nbformat": 4,
 "nbformat_minor": 5
}
