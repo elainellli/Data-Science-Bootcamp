{
 "cells": [
  {
   "cell_type": "markdown",
   "source": [
    "Replace missing values in Min.Price and Max.Price columns with their respective mean."
   ],
   "metadata": {
    "collapsed": false
   },
   "id": "70a4986031af1f2c"
  },
  {
   "cell_type": "code",
   "outputs": [],
   "source": [
    "import numpy as np\n",
    "import pandas as pd"
   ],
   "metadata": {
    "collapsed": true,
    "ExecuteTime": {
     "end_time": "2024-03-10T15:29:34.649097Z",
     "start_time": "2024-03-10T15:29:34.645663Z"
    }
   },
   "id": "initial_id",
   "execution_count": 15
  },
  {
   "cell_type": "code",
   "outputs": [],
   "source": [
    "df = pd.read_csv('https://raw.githubusercontent.com/selva86/datasets/master/Cars93_miss.csv')"
   ],
   "metadata": {
    "collapsed": false,
    "ExecuteTime": {
     "end_time": "2024-03-10T15:29:35.065410Z",
     "start_time": "2024-03-10T15:29:34.928105Z"
    }
   },
   "id": "aa744acfab75475e",
   "execution_count": 16
  },
  {
   "cell_type": "code",
   "outputs": [
    {
     "data": {
      "text/plain": "Index(['Manufacturer', 'Model', 'Type', 'Min.Price', 'Price', 'Max.Price',\n       'MPG.city', 'MPG.highway', 'AirBags', 'DriveTrain', 'Cylinders',\n       'EngineSize', 'Horsepower', 'RPM', 'Rev.per.mile', 'Man.trans.avail',\n       'Fuel.tank.capacity', 'Passengers', 'Length', 'Wheelbase', 'Width',\n       'Turn.circle', 'Rear.seat.room', 'Luggage.room', 'Weight', 'Origin',\n       'Make'],\n      dtype='object')"
     },
     "execution_count": 17,
     "metadata": {},
     "output_type": "execute_result"
    }
   ],
   "source": [
    "df.columns"
   ],
   "metadata": {
    "collapsed": false,
    "ExecuteTime": {
     "end_time": "2024-03-10T15:29:35.555940Z",
     "start_time": "2024-03-10T15:29:35.550746Z"
    }
   },
   "id": "e0a08a959cbad116",
   "execution_count": 17
  },
  {
   "cell_type": "code",
   "outputs": [
    {
     "name": "stdout",
     "output_type": "stream",
     "text": [
      "17.118604651162787 21.45909090909091\n"
     ]
    }
   ],
   "source": [
    "Min_price_mean = df['Min.Price'].mean()\n",
    "Max_price_mean = df['Max.Price'].mean()\n",
    "print(Min_price_mean, Max_price_mean)"
   ],
   "metadata": {
    "collapsed": false,
    "ExecuteTime": {
     "end_time": "2024-03-10T15:29:36.095936Z",
     "start_time": "2024-03-10T15:29:36.090635Z"
    }
   },
   "id": "eacc025849c504e6",
   "execution_count": 18
  },
  {
   "cell_type": "code",
   "outputs": [
    {
     "name": "stdout",
     "output_type": "stream",
     "text": [
      "    Min.Price  Max.Price\n",
      "0        12.9       18.8\n",
      "1        29.2       38.7\n",
      "2        25.9       32.3\n",
      "3         NaN       44.6\n",
      "4         NaN        NaN\n",
      "..        ...        ...\n",
      "88       16.6       22.7\n",
      "89       17.6       22.4\n",
      "90       22.9       23.7\n",
      "91       21.8       23.5\n",
      "92       24.8       28.5\n",
      "\n",
      "[93 rows x 2 columns]\n"
     ]
    }
   ],
   "source": [
    "print(df.loc[:,['Min.Price','Max.Price']])"
   ],
   "metadata": {
    "collapsed": false,
    "ExecuteTime": {
     "end_time": "2024-03-10T15:29:38.147465Z",
     "start_time": "2024-03-10T15:29:38.140450Z"
    }
   },
   "id": "e8a27d94e2508794",
   "execution_count": 19
  },
  {
   "cell_type": "code",
   "outputs": [],
   "source": [
    "df['Min.Price'] = df['Min.Price'].fillna(Min_price_mean)\n",
    "df['Max.Price'] = df['Max.Price'].fillna(Max_price_mean)"
   ],
   "metadata": {
    "collapsed": false,
    "ExecuteTime": {
     "end_time": "2024-03-10T15:29:48.339321Z",
     "start_time": "2024-03-10T15:29:48.334387Z"
    }
   },
   "id": "91154a1bdb74efb0",
   "execution_count": 20
  },
  {
   "cell_type": "code",
   "outputs": [
    {
     "name": "stdout",
     "output_type": "stream",
     "text": [
      "    Min.Price  Max.Price\n",
      "0   12.900000  18.800000\n",
      "1   29.200000  38.700000\n",
      "2   25.900000  32.300000\n",
      "3   17.118605  44.600000\n",
      "4   17.118605  21.459091\n",
      "..        ...        ...\n",
      "88  16.600000  22.700000\n",
      "89  17.600000  22.400000\n",
      "90  22.900000  23.700000\n",
      "91  21.800000  23.500000\n",
      "92  24.800000  28.500000\n",
      "\n",
      "[93 rows x 2 columns]\n"
     ]
    }
   ],
   "source": [
    "print(df.loc[:,['Min.Price','Max.Price']])"
   ],
   "metadata": {
    "collapsed": false,
    "ExecuteTime": {
     "end_time": "2024-03-10T15:30:23.333310Z",
     "start_time": "2024-03-10T15:30:23.327055Z"
    }
   },
   "id": "5befac2e25afcef",
   "execution_count": 22
  },
  {
   "cell_type": "code",
   "outputs": [],
   "source": [],
   "metadata": {
    "collapsed": false
   },
   "id": "4431cf5856bf61ba"
  }
 ],
 "metadata": {
  "kernelspec": {
   "display_name": "Python 3",
   "language": "python",
   "name": "python3"
  },
  "language_info": {
   "codemirror_mode": {
    "name": "ipython",
    "version": 2
   },
   "file_extension": ".py",
   "mimetype": "text/x-python",
   "name": "python",
   "nbconvert_exporter": "python",
   "pygments_lexer": "ipython2",
   "version": "2.7.6"
  }
 },
 "nbformat": 4,
 "nbformat_minor": 5
}
