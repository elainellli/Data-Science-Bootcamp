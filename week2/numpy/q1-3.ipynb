{
 "cells": [
  {
   "cell_type": "markdown",
   "source": [
    "Define two custom numpy arrays, say A and B. Generate two new numpy arrays by stacking A and B vertically and horizontally."
   ],
   "metadata": {
    "collapsed": false
   },
   "id": "b61334b9d5991fcf"
  },
  {
   "cell_type": "code",
   "execution_count": 7,
   "id": "initial_id",
   "metadata": {
    "collapsed": true,
    "ExecuteTime": {
     "end_time": "2024-03-10T15:53:20.809006Z",
     "start_time": "2024-03-10T15:53:20.805298Z"
    }
   },
   "outputs": [],
   "source": [
    "import numpy as np"
   ]
  },
  {
   "cell_type": "code",
   "outputs": [],
   "source": [
    "A = np.array([[1, 2, 3], [4, 5, 6]])\n",
    "B = np.array([[1,3,5],[2,4,6]])\n",
    "vert = np.vstack((A, B))\n",
    "hori = np.hstack((A, B))"
   ],
   "metadata": {
    "collapsed": false,
    "ExecuteTime": {
     "end_time": "2024-03-10T15:53:56.675503Z",
     "start_time": "2024-03-10T15:53:56.671132Z"
    }
   },
   "id": "7a590b5e9a065a7d",
   "execution_count": 11
  },
  {
   "cell_type": "code",
   "outputs": [
    {
     "name": "stdout",
     "output_type": "stream",
     "text": [
      "[[1 2 3]\n",
      " [4 5 6]\n",
      " [1 3 5]\n",
      " [2 4 6]] [[1 2 3 1 3 5]\n",
      " [4 5 6 2 4 6]]\n"
     ]
    }
   ],
   "source": [
    "print(vert, hori)"
   ],
   "metadata": {
    "collapsed": false,
    "ExecuteTime": {
     "end_time": "2024-03-10T15:54:04.800949Z",
     "start_time": "2024-03-10T15:54:04.797068Z"
    }
   },
   "id": "ba597c7cf99f6b2d",
   "execution_count": 12
  },
  {
   "cell_type": "code",
   "outputs": [],
   "source": [],
   "metadata": {
    "collapsed": false
   },
   "id": "c7f68bb8fc9184aa"
  }
 ],
 "metadata": {
  "kernelspec": {
   "display_name": "Python 3",
   "language": "python",
   "name": "python3"
  },
  "language_info": {
   "codemirror_mode": {
    "name": "ipython",
    "version": 2
   },
   "file_extension": ".py",
   "mimetype": "text/x-python",
   "name": "python",
   "nbconvert_exporter": "python",
   "pygments_lexer": "ipython2",
   "version": "2.7.6"
  }
 },
 "nbformat": 4,
 "nbformat_minor": 5
}
