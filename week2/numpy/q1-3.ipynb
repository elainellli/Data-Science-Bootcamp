{
 "cells": [
  {
   "cell_type": "markdown",
   "source": [
    "Q1: Define two custom numpy arrays, say A and B. Generate two new numpy arrays by stacking A and B vertically and horizontally."
   ],
   "metadata": {
    "collapsed": false
   },
   "id": "b61334b9d5991fcf"
  },
  {
   "cell_type": "code",
   "execution_count": 7,
   "id": "initial_id",
   "metadata": {
    "collapsed": true,
    "ExecuteTime": {
     "end_time": "2024-03-10T15:53:20.809006Z",
     "start_time": "2024-03-10T15:53:20.805298Z"
    }
   },
   "outputs": [],
   "source": [
    "import numpy as np"
   ]
  },
  {
   "cell_type": "code",
   "outputs": [],
   "source": [
    "A = np.array([1,2,3,4,5])\n",
    "B = np.array([1,3,5,7,9])\n",
    "vert = np.vstack((A, B))\n",
    "hori = np.hstack((A, B))"
   ],
   "metadata": {
    "collapsed": false,
    "ExecuteTime": {
     "end_time": "2024-03-10T16:00:15.927186Z",
     "start_time": "2024-03-10T16:00:15.923527Z"
    }
   },
   "id": "7a590b5e9a065a7d",
   "execution_count": 15
  },
  {
   "cell_type": "code",
   "outputs": [
    {
     "name": "stdout",
     "output_type": "stream",
     "text": [
      "[[1 2 3 4 5]\n",
      " [1 3 5 7 9]] [1 2 3 4 5 1 3 5 7 9]\n"
     ]
    }
   ],
   "source": [
    "print(vert, hori)"
   ],
   "metadata": {
    "collapsed": false,
    "ExecuteTime": {
     "end_time": "2024-03-10T16:00:16.908173Z",
     "start_time": "2024-03-10T16:00:16.903944Z"
    }
   },
   "id": "ba597c7cf99f6b2d",
   "execution_count": 16
  },
  {
   "cell_type": "markdown",
   "source": [
    "Q2: Find common elements between A and B. [Hint : Intersection of two sets]"
   ],
   "metadata": {
    "collapsed": false
   },
   "id": "fdd635cabc09663f"
  },
  {
   "cell_type": "code",
   "outputs": [
    {
     "name": "stdout",
     "output_type": "stream",
     "text": [
      "[1 3 5]\n"
     ]
    }
   ],
   "source": [
    "intersection = np.intersect1d(A,B)\n",
    "print(intersection)"
   ],
   "metadata": {
    "collapsed": false,
    "ExecuteTime": {
     "end_time": "2024-03-10T16:00:48.082453Z",
     "start_time": "2024-03-10T16:00:48.078990Z"
    }
   },
   "id": "20198c2b171a60fa",
   "execution_count": 18
  },
  {
   "cell_type": "markdown",
   "source": [
    "Extract all numbers from A which are within a specific range. eg between 5 and 10. [Hint: np.where() might be useful or boolean masks]"
   ],
   "metadata": {
    "collapsed": false
   },
   "id": "c2218a82b94f785b"
  },
  {
   "cell_type": "code",
   "outputs": [],
   "source": [
    "rangein = np.where((A>=2) & (A<=4))"
   ],
   "metadata": {
    "collapsed": false,
    "ExecuteTime": {
     "end_time": "2024-03-10T16:09:45.215776Z",
     "start_time": "2024-03-10T16:09:45.211781Z"
    }
   },
   "id": "c149e6d0b6e6770a",
   "execution_count": 31
  },
  {
   "cell_type": "code",
   "outputs": [
    {
     "data": {
      "text/plain": "array([2, 3, 4])"
     },
     "execution_count": 32,
     "metadata": {},
     "output_type": "execute_result"
    }
   ],
   "source": [
    "A[rangein]"
   ],
   "metadata": {
    "collapsed": false,
    "ExecuteTime": {
     "end_time": "2024-03-10T16:09:46.057872Z",
     "start_time": "2024-03-10T16:09:46.052324Z"
    }
   },
   "id": "df9c5c36ce507bfd",
   "execution_count": 32
  },
  {
   "cell_type": "code",
   "outputs": [],
   "source": [],
   "metadata": {
    "collapsed": false
   },
   "id": "d14d618cf20f539f"
  }
 ],
 "metadata": {
  "kernelspec": {
   "display_name": "Python 3",
   "language": "python",
   "name": "python3"
  },
  "language_info": {
   "codemirror_mode": {
    "name": "ipython",
    "version": 2
   },
   "file_extension": ".py",
   "mimetype": "text/x-python",
   "name": "python",
   "nbconvert_exporter": "python",
   "pygments_lexer": "ipython2",
   "version": "2.7.6"
  }
 },
 "nbformat": 4,
 "nbformat_minor": 5
}
