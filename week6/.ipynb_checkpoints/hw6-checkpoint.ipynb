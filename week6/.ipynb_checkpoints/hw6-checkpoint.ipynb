{
 "cells": [
  {
   "cell_type": "code",
   "execution_count": 1,
   "id": "initial_id",
   "metadata": {
    "ExecuteTime": {
     "end_time": "2024-04-16T03:04:25.018386Z",
     "start_time": "2024-04-16T03:04:24.215424Z"
    },
    "collapsed": true,
    "jupyter": {
     "outputs_hidden": true
    }
   },
   "outputs": [],
   "source": [
    "#Libraries\n",
    "import pandas as pd\n",
    "import numpy as np\n",
    "import seaborn as sns\n",
    "import matplotlib.pyplot as plt\n",
    "\n",
    "from sklearn.preprocessing import OneHotEncoder, StandardScaler\n",
    "from sklearn.model_selection import train_test_split\n",
    "\n",
    "from sklearn.linear_model import LinearRegression\n",
    "from sklearn.metrics import mean_absolute_error, mean_squared_error\n",
    "\n",
    "import warnings\n",
    "warnings.filterwarnings('ignore')\n",
    "pd.set_option(\"display.max_columns\", 101)"
   ]
  },
  {
   "cell_type": "code",
   "execution_count": 2,
   "id": "302688063446c167",
   "metadata": {
    "ExecuteTime": {
     "end_time": "2024-04-16T03:04:25.063585Z",
     "start_time": "2024-04-16T03:04:25.020483Z"
    },
    "collapsed": false,
    "jupyter": {
     "outputs_hidden": false
    }
   },
   "outputs": [],
   "source": [
    "# Dataset is already loaded below\n",
    "data = pd.read_csv(\"employee.csv\")"
   ]
  },
  {
   "cell_type": "code",
   "execution_count": 3,
   "id": "8292b642f3393f98",
   "metadata": {
    "ExecuteTime": {
     "end_time": "2024-04-16T03:04:25.079907Z",
     "start_time": "2024-04-16T03:04:25.066597Z"
    },
    "collapsed": false,
    "jupyter": {
     "outputs_hidden": false
    }
   },
   "outputs": [
    {
     "data": {
      "text/plain": [
       "(4277, 13)"
      ]
     },
     "execution_count": 3,
     "metadata": {},
     "output_type": "execute_result"
    }
   ],
   "source": [
    "# Dimensions of training data\n",
    "data.shape"
   ]
  },
  {
   "cell_type": "code",
   "execution_count": 4,
   "id": "2f83802f1793facc",
   "metadata": {
    "ExecuteTime": {
     "end_time": "2024-04-16T03:04:25.110416Z",
     "start_time": "2024-04-16T03:04:25.082366Z"
    },
    "collapsed": false,
    "jupyter": {
     "outputs_hidden": false
    }
   },
   "outputs": [
    {
     "data": {
      "text/html": [
       "<div>\n",
       "<style scoped>\n",
       "    .dataframe tbody tr th:only-of-type {\n",
       "        vertical-align: middle;\n",
       "    }\n",
       "\n",
       "    .dataframe tbody tr th {\n",
       "        vertical-align: top;\n",
       "    }\n",
       "\n",
       "    .dataframe thead th {\n",
       "        text-align: right;\n",
       "    }\n",
       "</style>\n",
       "<table border=\"1\" class=\"dataframe\">\n",
       "  <thead>\n",
       "    <tr style=\"text-align: right;\">\n",
       "      <th></th>\n",
       "      <th>id</th>\n",
       "      <th>timestamp</th>\n",
       "      <th>country</th>\n",
       "      <th>employment_status</th>\n",
       "      <th>job_title</th>\n",
       "      <th>job_years</th>\n",
       "      <th>is_manager</th>\n",
       "      <th>hours_per_week</th>\n",
       "      <th>telecommute_days_per_week</th>\n",
       "      <th>education</th>\n",
       "      <th>is_education_computer_related</th>\n",
       "      <th>certifications</th>\n",
       "      <th>salary</th>\n",
       "    </tr>\n",
       "  </thead>\n",
       "  <tbody>\n",
       "    <tr>\n",
       "      <th>0</th>\n",
       "      <td>1</td>\n",
       "      <td>12/11/2018 10:52:26</td>\n",
       "      <td>Slovenia</td>\n",
       "      <td>Full time</td>\n",
       "      <td>Developer</td>\n",
       "      <td>4.78393</td>\n",
       "      <td>Yes</td>\n",
       "      <td>40.0</td>\n",
       "      <td>0.0</td>\n",
       "      <td>Bachelors (4 years)</td>\n",
       "      <td>Yes</td>\n",
       "      <td>No</td>\n",
       "      <td>7187.743094</td>\n",
       "    </tr>\n",
       "    <tr>\n",
       "      <th>1</th>\n",
       "      <td>2</td>\n",
       "      <td>1/5/2017 16:57:50</td>\n",
       "      <td>United States</td>\n",
       "      <td>Full time</td>\n",
       "      <td>DBA</td>\n",
       "      <td>5.00000</td>\n",
       "      <td>No</td>\n",
       "      <td>40.0</td>\n",
       "      <td>5.0</td>\n",
       "      <td>Bachelors (4 years)</td>\n",
       "      <td>Yes</td>\n",
       "      <td>No</td>\n",
       "      <td>10000.000000</td>\n",
       "    </tr>\n",
       "    <tr>\n",
       "      <th>2</th>\n",
       "      <td>3</td>\n",
       "      <td>12/18/2017 8:13:15</td>\n",
       "      <td>Sweden</td>\n",
       "      <td>Full time</td>\n",
       "      <td>DBA</td>\n",
       "      <td>1.00000</td>\n",
       "      <td>No</td>\n",
       "      <td>40.0</td>\n",
       "      <td>0.0</td>\n",
       "      <td>Masters</td>\n",
       "      <td>Yes</td>\n",
       "      <td>Yes</td>\n",
       "      <td>7000.000000</td>\n",
       "    </tr>\n",
       "    <tr>\n",
       "      <th>3</th>\n",
       "      <td>4</td>\n",
       "      <td>12/27/2018 4:56:52</td>\n",
       "      <td>United States</td>\n",
       "      <td>Full time</td>\n",
       "      <td>DBA</td>\n",
       "      <td>1.00000</td>\n",
       "      <td>No</td>\n",
       "      <td>40.0</td>\n",
       "      <td>2.0</td>\n",
       "      <td>Bachelors (4 years)</td>\n",
       "      <td>No</td>\n",
       "      <td>No</td>\n",
       "      <td>8333.000000</td>\n",
       "    </tr>\n",
       "    <tr>\n",
       "      <th>4</th>\n",
       "      <td>5</td>\n",
       "      <td>12/11/2018 14:07:58</td>\n",
       "      <td>United States</td>\n",
       "      <td>Full time</td>\n",
       "      <td>Developer</td>\n",
       "      <td>3.00000</td>\n",
       "      <td>No</td>\n",
       "      <td>40.0</td>\n",
       "      <td>2.0</td>\n",
       "      <td>Masters</td>\n",
       "      <td>Yes</td>\n",
       "      <td>Yes</td>\n",
       "      <td>7137.000000</td>\n",
       "    </tr>\n",
       "  </tbody>\n",
       "</table>\n",
       "</div>"
      ],
      "text/plain": [
       "   id            timestamp        country employment_status  job_title  \\\n",
       "0   1  12/11/2018 10:52:26       Slovenia         Full time  Developer   \n",
       "1   2    1/5/2017 16:57:50  United States         Full time        DBA   \n",
       "2   3   12/18/2017 8:13:15         Sweden         Full time        DBA   \n",
       "3   4   12/27/2018 4:56:52  United States         Full time        DBA   \n",
       "4   5  12/11/2018 14:07:58  United States         Full time  Developer   \n",
       "\n",
       "   job_years is_manager  hours_per_week  telecommute_days_per_week  \\\n",
       "0    4.78393        Yes            40.0                        0.0   \n",
       "1    5.00000         No            40.0                        5.0   \n",
       "2    1.00000         No            40.0                        0.0   \n",
       "3    1.00000         No            40.0                        2.0   \n",
       "4    3.00000         No            40.0                        2.0   \n",
       "\n",
       "             education is_education_computer_related certifications  \\\n",
       "0  Bachelors (4 years)                           Yes             No   \n",
       "1  Bachelors (4 years)                           Yes             No   \n",
       "2              Masters                           Yes            Yes   \n",
       "3  Bachelors (4 years)                            No             No   \n",
       "4              Masters                           Yes            Yes   \n",
       "\n",
       "         salary  \n",
       "0   7187.743094  \n",
       "1  10000.000000  \n",
       "2   7000.000000  \n",
       "3   8333.000000  \n",
       "4   7137.000000  "
      ]
     },
     "execution_count": 4,
     "metadata": {},
     "output_type": "execute_result"
    }
   ],
   "source": [
    "# Print first few rows of data\n",
    "data.head()"
   ]
  },
  {
   "cell_type": "code",
   "execution_count": 5,
   "id": "27b671d405f42540",
   "metadata": {
    "ExecuteTime": {
     "end_time": "2024-04-16T03:04:25.120710Z",
     "start_time": "2024-04-16T03:04:25.111825Z"
    },
    "collapsed": false,
    "jupyter": {
     "outputs_hidden": false
    }
   },
   "outputs": [],
   "source": [
    "# drop id, timestamp and country columns\n",
    "data = data.drop(columns=['id', 'timestamp','country'])"
   ]
  },
  {
   "cell_type": "code",
   "execution_count": 6,
   "id": "d36d4f3dbb8b4844",
   "metadata": {
    "ExecuteTime": {
     "end_time": "2024-04-16T03:04:25.131641Z",
     "start_time": "2024-04-16T03:04:25.123078Z"
    },
    "collapsed": false,
    "jupyter": {
     "outputs_hidden": false
    }
   },
   "outputs": [
    {
     "data": {
      "text/plain": [
       "Index(['employment_status', 'job_title', 'job_years', 'is_manager',\n",
       "       'hours_per_week', 'telecommute_days_per_week', 'education',\n",
       "       'is_education_computer_related', 'certifications', 'salary'],\n",
       "      dtype='object')"
      ]
     },
     "execution_count": 6,
     "metadata": {},
     "output_type": "execute_result"
    }
   ],
   "source": [
    "# Explore columns\n",
    "data.columns"
   ]
  },
  {
   "cell_type": "code",
   "execution_count": 7,
   "id": "4302defa63306332",
   "metadata": {
    "ExecuteTime": {
     "end_time": "2024-04-16T03:04:25.144910Z",
     "start_time": "2024-04-16T03:04:25.133712Z"
    },
    "collapsed": false,
    "jupyter": {
     "outputs_hidden": false
    }
   },
   "outputs": [],
   "source": [
    "# replace NANs in hours_per_week with median value of the column\n",
    "data.loc[data['hours_per_week'].isna(), 'hours_per_week'] = data['hours_per_week'].median()\n",
    "data.loc[data['telecommute_days_per_week'].isna(), 'telecommute_days_per_week'] = data['telecommute_days_per_week'].median()"
   ]
  },
  {
   "cell_type": "code",
   "execution_count": 8,
   "id": "616ec41ab29b49d5",
   "metadata": {
    "ExecuteTime": {
     "end_time": "2024-04-16T03:04:25.157115Z",
     "start_time": "2024-04-16T03:04:25.146926Z"
    },
    "collapsed": false,
    "jupyter": {
     "outputs_hidden": false
    }
   },
   "outputs": [],
   "source": [
    "#Handling null values in categorical columns\n",
    "data = data.dropna()"
   ]
  },
  {
   "cell_type": "code",
   "execution_count": 9,
   "id": "a135ee4f35bb3302",
   "metadata": {
    "ExecuteTime": {
     "end_time": "2024-04-16T03:04:25.184949Z",
     "start_time": "2024-04-16T03:04:25.159126Z"
    },
    "collapsed": false,
    "jupyter": {
     "outputs_hidden": false
    }
   },
   "outputs": [
    {
     "name": "stdout",
     "output_type": "stream",
     "text": [
      "<class 'pandas.core.frame.DataFrame'>\n",
      "Index: 4261 entries, 0 to 4276\n",
      "Data columns (total 10 columns):\n",
      " #   Column                         Non-Null Count  Dtype  \n",
      "---  ------                         --------------  -----  \n",
      " 0   employment_status              4261 non-null   object \n",
      " 1   job_title                      4261 non-null   object \n",
      " 2   job_years                      4261 non-null   float64\n",
      " 3   is_manager                     4261 non-null   object \n",
      " 4   hours_per_week                 4261 non-null   float64\n",
      " 5   telecommute_days_per_week      4261 non-null   float64\n",
      " 6   education                      4261 non-null   object \n",
      " 7   is_education_computer_related  4261 non-null   object \n",
      " 8   certifications                 4261 non-null   object \n",
      " 9   salary                         4261 non-null   float64\n",
      "dtypes: float64(4), object(6)\n",
      "memory usage: 366.2+ KB\n"
     ]
    }
   ],
   "source": [
    "data.info()"
   ]
  },
  {
   "cell_type": "code",
   "execution_count": 10,
   "id": "f58f9f87ff628592",
   "metadata": {
    "ExecuteTime": {
     "end_time": "2024-04-16T03:04:27.988812Z",
     "start_time": "2024-04-16T03:04:25.185959Z"
    },
    "collapsed": false,
    "jupyter": {
     "outputs_hidden": false
    }
   },
   "outputs": [
    {
     "data": {
      "image/png": "[encoded data removed]",
      "text/plain": [
       "<Figure size 500x500 with 3 Axes>"
      ]
     },
     "metadata": {},
     "output_type": "display_data"
    },
    {
     "data": {
      "image/png": "[encoded data removed]",
      "text/plain": [
       "<Figure size 500x500 with 3 Axes>"
      ]
     },
     "metadata": {},
     "output_type": "display_data"
    }
   ],
   "source": [
    "# joint plots for numeric variables\n",
    "\n",
    "cols = [\"job_years\", \"hours_per_week\"]\n",
    "for c in cols:\n",
    "    sns.jointplot(x=c, y=\"salary\", data=data, kind = 'reg', height = 5)\n",
    "plt.show()"
   ]
  },
  {
   "cell_type": "code",
   "execution_count": 11,
   "id": "32eb0f2a0d1d3456",
   "metadata": {
    "ExecuteTime": {
     "end_time": "2024-04-16T03:04:28.713984Z",
     "start_time": "2024-04-16T03:04:27.993823Z"
    },
    "collapsed": false,
    "jupyter": {
     "outputs_hidden": false
    }
   },
   "outputs": [
    {
     "data": {
      "image/png": "[encoded data removed]",
      "text/plain": [
       "<Figure size 640x480 with 1 Axes>"
      ]
     },
     "metadata": {},
     "output_type": "display_data"
    },
    {
     "data": {
      "image/png": "[encoded data removed]",
      "text/plain": [
       "<Figure size 640x480 with 1 Axes>"
      ]
     },
     "metadata": {},
     "output_type": "display_data"
    }
   ],
   "source": [
    "cols = [\"job_years\", \"hours_per_week\"]\n",
    "for c in cols:\n",
    "    sns.distplot(data[c])\n",
    "    plt.grid()\n",
    "    plt.show()"
   ]
  },
  {
   "cell_type": "code",
   "execution_count": 12,
   "id": "80dccfc7e09aa0b3",
   "metadata": {
    "ExecuteTime": {
     "end_time": "2024-04-16T03:04:28.730490Z",
     "start_time": "2024-04-16T03:04:28.714995Z"
    },
    "collapsed": false,
    "jupyter": {
     "outputs_hidden": false
    }
   },
   "outputs": [
    {
     "data": {
      "text/html": [
       "<div>\n",
       "<style scoped>\n",
       "    .dataframe tbody tr th:only-of-type {\n",
       "        vertical-align: middle;\n",
       "    }\n",
       "\n",
       "    .dataframe tbody tr th {\n",
       "        vertical-align: top;\n",
       "    }\n",
       "\n",
       "    .dataframe thead th {\n",
       "        text-align: right;\n",
       "    }\n",
       "</style>\n",
       "<table border=\"1\" class=\"dataframe\">\n",
       "  <thead>\n",
       "    <tr style=\"text-align: right;\">\n",
       "      <th></th>\n",
       "      <th>employment_status</th>\n",
       "      <th>job_title</th>\n",
       "      <th>job_years</th>\n",
       "      <th>is_manager</th>\n",
       "      <th>hours_per_week</th>\n",
       "      <th>telecommute_days_per_week</th>\n",
       "      <th>education</th>\n",
       "      <th>is_education_computer_related</th>\n",
       "      <th>certifications</th>\n",
       "      <th>salary</th>\n",
       "    </tr>\n",
       "  </thead>\n",
       "  <tbody>\n",
       "    <tr>\n",
       "      <th>0</th>\n",
       "      <td>Full time</td>\n",
       "      <td>Developer</td>\n",
       "      <td>4.78393</td>\n",
       "      <td>Yes</td>\n",
       "      <td>40.0</td>\n",
       "      <td>0.0</td>\n",
       "      <td>Bachelors (4 years)</td>\n",
       "      <td>Yes</td>\n",
       "      <td>No</td>\n",
       "      <td>7187.743094</td>\n",
       "    </tr>\n",
       "    <tr>\n",
       "      <th>1</th>\n",
       "      <td>Full time</td>\n",
       "      <td>DBA</td>\n",
       "      <td>5.00000</td>\n",
       "      <td>No</td>\n",
       "      <td>40.0</td>\n",
       "      <td>5.0</td>\n",
       "      <td>Bachelors (4 years)</td>\n",
       "      <td>Yes</td>\n",
       "      <td>No</td>\n",
       "      <td>10000.000000</td>\n",
       "    </tr>\n",
       "    <tr>\n",
       "      <th>2</th>\n",
       "      <td>Full time</td>\n",
       "      <td>DBA</td>\n",
       "      <td>1.00000</td>\n",
       "      <td>No</td>\n",
       "      <td>40.0</td>\n",
       "      <td>0.0</td>\n",
       "      <td>Masters</td>\n",
       "      <td>Yes</td>\n",
       "      <td>Yes</td>\n",
       "      <td>7000.000000</td>\n",
       "    </tr>\n",
       "    <tr>\n",
       "      <th>3</th>\n",
       "      <td>Full time</td>\n",
       "      <td>DBA</td>\n",
       "      <td>1.00000</td>\n",
       "      <td>No</td>\n",
       "      <td>40.0</td>\n",
       "      <td>2.0</td>\n",
       "      <td>Bachelors (4 years)</td>\n",
       "      <td>No</td>\n",
       "      <td>No</td>\n",
       "      <td>8333.000000</td>\n",
       "    </tr>\n",
       "    <tr>\n",
       "      <th>4</th>\n",
       "      <td>Full time</td>\n",
       "      <td>Developer</td>\n",
       "      <td>3.00000</td>\n",
       "      <td>No</td>\n",
       "      <td>40.0</td>\n",
       "      <td>2.0</td>\n",
       "      <td>Masters</td>\n",
       "      <td>Yes</td>\n",
       "      <td>Yes</td>\n",
       "      <td>7137.000000</td>\n",
       "    </tr>\n",
       "  </tbody>\n",
       "</table>\n",
       "</div>"
      ],
      "text/plain": [
       "  employment_status  job_title  job_years is_manager  hours_per_week  \\\n",
       "0         Full time  Developer    4.78393        Yes            40.0   \n",
       "1         Full time        DBA    5.00000         No            40.0   \n",
       "2         Full time        DBA    1.00000         No            40.0   \n",
       "3         Full time        DBA    1.00000         No            40.0   \n",
       "4         Full time  Developer    3.00000         No            40.0   \n",
       "\n",
       "   telecommute_days_per_week            education  \\\n",
       "0                        0.0  Bachelors (4 years)   \n",
       "1                        5.0  Bachelors (4 years)   \n",
       "2                        0.0              Masters   \n",
       "3                        2.0  Bachelors (4 years)   \n",
       "4                        2.0              Masters   \n",
       "\n",
       "  is_education_computer_related certifications        salary  \n",
       "0                           Yes             No   7187.743094  \n",
       "1                           Yes             No  10000.000000  \n",
       "2                           Yes            Yes   7000.000000  \n",
       "3                            No             No   8333.000000  \n",
       "4                           Yes            Yes   7137.000000  "
      ]
     },
     "execution_count": 12,
     "metadata": {},
     "output_type": "execute_result"
    }
   ],
   "source": [
    "# create another copy of dataset and append encoded features to it\n",
    "data_train = data.copy()\n",
    "data_train.head()"
   ]
  },
  {
   "cell_type": "code",
   "execution_count": 13,
   "id": "830ae7d2da0cc895",
   "metadata": {
    "ExecuteTime": {
     "end_time": "2024-04-16T03:04:28.749149Z",
     "start_time": "2024-04-16T03:04:28.732370Z"
    },
    "collapsed": false,
    "jupyter": {
     "outputs_hidden": false
    }
   },
   "outputs": [
    {
     "data": {
      "text/plain": [
       "['employment_status',\n",
       " 'job_title',\n",
       " 'education',\n",
       " 'is_education_computer_related']"
      ]
     },
     "execution_count": 13,
     "metadata": {},
     "output_type": "execute_result"
    }
   ],
   "source": [
    "# select categorical features\n",
    "cat_cols = [c for c in data_train.columns if data_train[c].dtype == 'object'\n",
    "            and c not in ['is_manager', 'certifications']]\n",
    "cat_data = data_train[cat_cols]\n",
    "cat_cols"
   ]
  },
  {
   "cell_type": "code",
   "execution_count": 14,
   "id": "56f55b22969e7a15",
   "metadata": {
    "ExecuteTime": {
     "end_time": "2024-04-16T03:04:28.761689Z",
     "start_time": "2024-04-16T03:04:28.750158Z"
    },
    "collapsed": false,
    "jupyter": {
     "outputs_hidden": false
    }
   },
   "outputs": [],
   "source": [
    "#Encoding binary variables\n",
    "binary_cols = ['is_manager', 'certifications']\n",
    "for c in binary_cols:\n",
    "    data_train[c] = data_train[c].replace(to_replace=['Yes'], value=1)\n",
    "    data_train[c] = data_train[c].replace(to_replace=['No'], value=0)"
   ]
  },
  {
   "cell_type": "code",
   "execution_count": 15,
   "id": "10aab9dae9e5fd0b",
   "metadata": {
    "ExecuteTime": {
     "end_time": "2024-04-16T03:04:28.777180Z",
     "start_time": "2024-04-16T03:04:28.763034Z"
    },
    "collapsed": false,
    "jupyter": {
     "outputs_hidden": false
    }
   },
   "outputs": [
    {
     "data": {
      "text/plain": [
       "(4261, 25)"
      ]
     },
     "execution_count": 15,
     "metadata": {},
     "output_type": "execute_result"
    }
   ],
   "source": [
    "final_data = pd.get_dummies(data_train, columns=cat_cols, drop_first= True,dtype=int)\n",
    "final_data.shape"
   ]
  },
  {
   "cell_type": "code",
   "execution_count": 16,
   "id": "f3b3bda39dc10ade",
   "metadata": {
    "ExecuteTime": {
     "end_time": "2024-04-16T03:04:28.785560Z",
     "start_time": "2024-04-16T03:04:28.778190Z"
    },
    "collapsed": false,
    "jupyter": {
     "outputs_hidden": false
    }
   },
   "outputs": [
    {
     "data": {
      "text/plain": [
       "Index(['job_years', 'is_manager', 'hours_per_week',\n",
       "       'telecommute_days_per_week', 'certifications', 'salary',\n",
       "       'employment_status_Independent or freelancer or company owner',\n",
       "       'employment_status_Part time', 'job_title_Analytics consultant',\n",
       "       'job_title_Architect', 'job_title_DBA', 'job_title_Data Scientist',\n",
       "       'job_title_Developer', 'job_title_Engineer', 'job_title_Manager',\n",
       "       'job_title_Other', 'job_title_Principal database engineer',\n",
       "       'job_title_Sales', 'job_title_Sr Consultant ',\n",
       "       'education_Bachelors (4 years)', 'education_Doctorate/PhD',\n",
       "       'education_Masters', 'education_None (no degree completed)',\n",
       "       'is_education_computer_related_Unknown',\n",
       "       'is_education_computer_related_Yes'],\n",
       "      dtype='object')"
      ]
     },
     "execution_count": 16,
     "metadata": {},
     "output_type": "execute_result"
    }
   ],
   "source": [
    "final_data.columns"
   ]
  },
  {
   "cell_type": "code",
   "execution_count": 17,
   "id": "b71c6ad045982260",
   "metadata": {
    "ExecuteTime": {
     "end_time": "2024-04-16T03:04:28.813637Z",
     "start_time": "2024-04-16T03:04:28.787569Z"
    },
    "collapsed": false,
    "jupyter": {
     "outputs_hidden": false
    }
   },
   "outputs": [
    {
     "data": {
      "text/html": [
       "<div>\n",
       "<style scoped>\n",
       "    .dataframe tbody tr th:only-of-type {\n",
       "        vertical-align: middle;\n",
       "    }\n",
       "\n",
       "    .dataframe tbody tr th {\n",
       "        vertical-align: top;\n",
       "    }\n",
       "\n",
       "    .dataframe thead th {\n",
       "        text-align: right;\n",
       "    }\n",
       "</style>\n",
       "<table border=\"1\" class=\"dataframe\">\n",
       "  <thead>\n",
       "    <tr style=\"text-align: right;\">\n",
       "      <th></th>\n",
       "      <th>job_years</th>\n",
       "      <th>is_manager</th>\n",
       "      <th>hours_per_week</th>\n",
       "      <th>telecommute_days_per_week</th>\n",
       "      <th>certifications</th>\n",
       "      <th>salary</th>\n",
       "      <th>employment_status_Independent or freelancer or company owner</th>\n",
       "      <th>employment_status_Part time</th>\n",
       "      <th>job_title_Analytics consultant</th>\n",
       "      <th>job_title_Architect</th>\n",
       "      <th>job_title_DBA</th>\n",
       "      <th>job_title_Data Scientist</th>\n",
       "      <th>job_title_Developer</th>\n",
       "      <th>job_title_Engineer</th>\n",
       "      <th>job_title_Manager</th>\n",
       "      <th>job_title_Other</th>\n",
       "      <th>job_title_Principal database engineer</th>\n",
       "      <th>job_title_Sales</th>\n",
       "      <th>job_title_Sr Consultant</th>\n",
       "      <th>education_Bachelors (4 years)</th>\n",
       "      <th>education_Doctorate/PhD</th>\n",
       "      <th>education_Masters</th>\n",
       "      <th>education_None (no degree completed)</th>\n",
       "      <th>is_education_computer_related_Unknown</th>\n",
       "      <th>is_education_computer_related_Yes</th>\n",
       "    </tr>\n",
       "  </thead>\n",
       "  <tbody>\n",
       "    <tr>\n",
       "      <th>0</th>\n",
       "      <td>4.783930</td>\n",
       "      <td>1</td>\n",
       "      <td>40.0</td>\n",
       "      <td>0.0</td>\n",
       "      <td>0</td>\n",
       "      <td>7187.743094</td>\n",
       "      <td>0</td>\n",
       "      <td>0</td>\n",
       "      <td>0</td>\n",
       "      <td>0</td>\n",
       "      <td>0</td>\n",
       "      <td>0</td>\n",
       "      <td>1</td>\n",
       "      <td>0</td>\n",
       "      <td>0</td>\n",
       "      <td>0</td>\n",
       "      <td>0</td>\n",
       "      <td>0</td>\n",
       "      <td>0</td>\n",
       "      <td>1</td>\n",
       "      <td>0</td>\n",
       "      <td>0</td>\n",
       "      <td>0</td>\n",
       "      <td>0</td>\n",
       "      <td>1</td>\n",
       "    </tr>\n",
       "    <tr>\n",
       "      <th>1</th>\n",
       "      <td>5.000000</td>\n",
       "      <td>0</td>\n",
       "      <td>40.0</td>\n",
       "      <td>5.0</td>\n",
       "      <td>0</td>\n",
       "      <td>10000.000000</td>\n",
       "      <td>0</td>\n",
       "      <td>0</td>\n",
       "      <td>0</td>\n",
       "      <td>0</td>\n",
       "      <td>1</td>\n",
       "      <td>0</td>\n",
       "      <td>0</td>\n",
       "      <td>0</td>\n",
       "      <td>0</td>\n",
       "      <td>0</td>\n",
       "      <td>0</td>\n",
       "      <td>0</td>\n",
       "      <td>0</td>\n",
       "      <td>1</td>\n",
       "      <td>0</td>\n",
       "      <td>0</td>\n",
       "      <td>0</td>\n",
       "      <td>0</td>\n",
       "      <td>1</td>\n",
       "    </tr>\n",
       "    <tr>\n",
       "      <th>2</th>\n",
       "      <td>1.000000</td>\n",
       "      <td>0</td>\n",
       "      <td>40.0</td>\n",
       "      <td>0.0</td>\n",
       "      <td>1</td>\n",
       "      <td>7000.000000</td>\n",
       "      <td>0</td>\n",
       "      <td>0</td>\n",
       "      <td>0</td>\n",
       "      <td>0</td>\n",
       "      <td>1</td>\n",
       "      <td>0</td>\n",
       "      <td>0</td>\n",
       "      <td>0</td>\n",
       "      <td>0</td>\n",
       "      <td>0</td>\n",
       "      <td>0</td>\n",
       "      <td>0</td>\n",
       "      <td>0</td>\n",
       "      <td>0</td>\n",
       "      <td>0</td>\n",
       "      <td>1</td>\n",
       "      <td>0</td>\n",
       "      <td>0</td>\n",
       "      <td>1</td>\n",
       "    </tr>\n",
       "    <tr>\n",
       "      <th>3</th>\n",
       "      <td>1.000000</td>\n",
       "      <td>0</td>\n",
       "      <td>40.0</td>\n",
       "      <td>2.0</td>\n",
       "      <td>0</td>\n",
       "      <td>8333.000000</td>\n",
       "      <td>0</td>\n",
       "      <td>0</td>\n",
       "      <td>0</td>\n",
       "      <td>0</td>\n",
       "      <td>1</td>\n",
       "      <td>0</td>\n",
       "      <td>0</td>\n",
       "      <td>0</td>\n",
       "      <td>0</td>\n",
       "      <td>0</td>\n",
       "      <td>0</td>\n",
       "      <td>0</td>\n",
       "      <td>0</td>\n",
       "      <td>1</td>\n",
       "      <td>0</td>\n",
       "      <td>0</td>\n",
       "      <td>0</td>\n",
       "      <td>0</td>\n",
       "      <td>0</td>\n",
       "    </tr>\n",
       "    <tr>\n",
       "      <th>4</th>\n",
       "      <td>3.000000</td>\n",
       "      <td>0</td>\n",
       "      <td>40.0</td>\n",
       "      <td>2.0</td>\n",
       "      <td>1</td>\n",
       "      <td>7137.000000</td>\n",
       "      <td>0</td>\n",
       "      <td>0</td>\n",
       "      <td>0</td>\n",
       "      <td>0</td>\n",
       "      <td>0</td>\n",
       "      <td>0</td>\n",
       "      <td>1</td>\n",
       "      <td>0</td>\n",
       "      <td>0</td>\n",
       "      <td>0</td>\n",
       "      <td>0</td>\n",
       "      <td>0</td>\n",
       "      <td>0</td>\n",
       "      <td>0</td>\n",
       "      <td>0</td>\n",
       "      <td>1</td>\n",
       "      <td>0</td>\n",
       "      <td>0</td>\n",
       "      <td>1</td>\n",
       "    </tr>\n",
       "    <tr>\n",
       "      <th>...</th>\n",
       "      <td>...</td>\n",
       "      <td>...</td>\n",
       "      <td>...</td>\n",
       "      <td>...</td>\n",
       "      <td>...</td>\n",
       "      <td>...</td>\n",
       "      <td>...</td>\n",
       "      <td>...</td>\n",
       "      <td>...</td>\n",
       "      <td>...</td>\n",
       "      <td>...</td>\n",
       "      <td>...</td>\n",
       "      <td>...</td>\n",
       "      <td>...</td>\n",
       "      <td>...</td>\n",
       "      <td>...</td>\n",
       "      <td>...</td>\n",
       "      <td>...</td>\n",
       "      <td>...</td>\n",
       "      <td>...</td>\n",
       "      <td>...</td>\n",
       "      <td>...</td>\n",
       "      <td>...</td>\n",
       "      <td>...</td>\n",
       "      <td>...</td>\n",
       "    </tr>\n",
       "    <tr>\n",
       "      <th>4272</th>\n",
       "      <td>2.000000</td>\n",
       "      <td>1</td>\n",
       "      <td>40.0</td>\n",
       "      <td>0.0</td>\n",
       "      <td>0</td>\n",
       "      <td>4917.000000</td>\n",
       "      <td>0</td>\n",
       "      <td>0</td>\n",
       "      <td>0</td>\n",
       "      <td>0</td>\n",
       "      <td>0</td>\n",
       "      <td>0</td>\n",
       "      <td>1</td>\n",
       "      <td>0</td>\n",
       "      <td>0</td>\n",
       "      <td>0</td>\n",
       "      <td>0</td>\n",
       "      <td>0</td>\n",
       "      <td>0</td>\n",
       "      <td>1</td>\n",
       "      <td>0</td>\n",
       "      <td>0</td>\n",
       "      <td>0</td>\n",
       "      <td>0</td>\n",
       "      <td>0</td>\n",
       "    </tr>\n",
       "    <tr>\n",
       "      <th>4273</th>\n",
       "      <td>4.140793</td>\n",
       "      <td>1</td>\n",
       "      <td>40.0</td>\n",
       "      <td>0.0</td>\n",
       "      <td>0</td>\n",
       "      <td>7033.845701</td>\n",
       "      <td>0</td>\n",
       "      <td>0</td>\n",
       "      <td>0</td>\n",
       "      <td>0</td>\n",
       "      <td>1</td>\n",
       "      <td>0</td>\n",
       "      <td>0</td>\n",
       "      <td>0</td>\n",
       "      <td>0</td>\n",
       "      <td>0</td>\n",
       "      <td>0</td>\n",
       "      <td>0</td>\n",
       "      <td>0</td>\n",
       "      <td>1</td>\n",
       "      <td>0</td>\n",
       "      <td>0</td>\n",
       "      <td>0</td>\n",
       "      <td>0</td>\n",
       "      <td>0</td>\n",
       "    </tr>\n",
       "    <tr>\n",
       "      <th>4274</th>\n",
       "      <td>5.000000</td>\n",
       "      <td>0</td>\n",
       "      <td>40.0</td>\n",
       "      <td>0.0</td>\n",
       "      <td>0</td>\n",
       "      <td>7166.000000</td>\n",
       "      <td>0</td>\n",
       "      <td>0</td>\n",
       "      <td>0</td>\n",
       "      <td>0</td>\n",
       "      <td>0</td>\n",
       "      <td>0</td>\n",
       "      <td>1</td>\n",
       "      <td>0</td>\n",
       "      <td>0</td>\n",
       "      <td>0</td>\n",
       "      <td>0</td>\n",
       "      <td>0</td>\n",
       "      <td>0</td>\n",
       "      <td>1</td>\n",
       "      <td>0</td>\n",
       "      <td>0</td>\n",
       "      <td>0</td>\n",
       "      <td>0</td>\n",
       "      <td>0</td>\n",
       "    </tr>\n",
       "    <tr>\n",
       "      <th>4275</th>\n",
       "      <td>4.000000</td>\n",
       "      <td>1</td>\n",
       "      <td>40.0</td>\n",
       "      <td>2.0</td>\n",
       "      <td>0</td>\n",
       "      <td>9583.000000</td>\n",
       "      <td>0</td>\n",
       "      <td>0</td>\n",
       "      <td>0</td>\n",
       "      <td>0</td>\n",
       "      <td>1</td>\n",
       "      <td>0</td>\n",
       "      <td>0</td>\n",
       "      <td>0</td>\n",
       "      <td>0</td>\n",
       "      <td>0</td>\n",
       "      <td>0</td>\n",
       "      <td>0</td>\n",
       "      <td>0</td>\n",
       "      <td>1</td>\n",
       "      <td>0</td>\n",
       "      <td>0</td>\n",
       "      <td>0</td>\n",
       "      <td>0</td>\n",
       "      <td>1</td>\n",
       "    </tr>\n",
       "    <tr>\n",
       "      <th>4276</th>\n",
       "      <td>1.000000</td>\n",
       "      <td>0</td>\n",
       "      <td>40.0</td>\n",
       "      <td>5.0</td>\n",
       "      <td>1</td>\n",
       "      <td>9166.000000</td>\n",
       "      <td>0</td>\n",
       "      <td>0</td>\n",
       "      <td>0</td>\n",
       "      <td>0</td>\n",
       "      <td>1</td>\n",
       "      <td>0</td>\n",
       "      <td>0</td>\n",
       "      <td>0</td>\n",
       "      <td>0</td>\n",
       "      <td>0</td>\n",
       "      <td>0</td>\n",
       "      <td>0</td>\n",
       "      <td>0</td>\n",
       "      <td>0</td>\n",
       "      <td>0</td>\n",
       "      <td>1</td>\n",
       "      <td>0</td>\n",
       "      <td>0</td>\n",
       "      <td>0</td>\n",
       "    </tr>\n",
       "  </tbody>\n",
       "</table>\n",
       "<p>4261 rows × 25 columns</p>\n",
       "</div>"
      ],
      "text/plain": [
       "      job_years  is_manager  hours_per_week  telecommute_days_per_week  \\\n",
       "0      4.783930           1            40.0                        0.0   \n",
       "1      5.000000           0            40.0                        5.0   \n",
       "2      1.000000           0            40.0                        0.0   \n",
       "3      1.000000           0            40.0                        2.0   \n",
       "4      3.000000           0            40.0                        2.0   \n",
       "...         ...         ...             ...                        ...   \n",
       "4272   2.000000           1            40.0                        0.0   \n",
       "4273   4.140793           1            40.0                        0.0   \n",
       "4274   5.000000           0            40.0                        0.0   \n",
       "4275   4.000000           1            40.0                        2.0   \n",
       "4276   1.000000           0            40.0                        5.0   \n",
       "\n",
       "      certifications        salary  \\\n",
       "0                  0   7187.743094   \n",
       "1                  0  10000.000000   \n",
       "2                  1   7000.000000   \n",
       "3                  0   8333.000000   \n",
       "4                  1   7137.000000   \n",
       "...              ...           ...   \n",
       "4272               0   4917.000000   \n",
       "4273               0   7033.845701   \n",
       "4274               0   7166.000000   \n",
       "4275               0   9583.000000   \n",
       "4276               1   9166.000000   \n",
       "\n",
       "      employment_status_Independent or freelancer or company owner  \\\n",
       "0                                                     0              \n",
       "1                                                     0              \n",
       "2                                                     0              \n",
       "3                                                     0              \n",
       "4                                                     0              \n",
       "...                                                 ...              \n",
       "4272                                                  0              \n",
       "4273                                                  0              \n",
       "4274                                                  0              \n",
       "4275                                                  0              \n",
       "4276                                                  0              \n",
       "\n",
       "      employment_status_Part time  job_title_Analytics consultant  \\\n",
       "0                               0                               0   \n",
       "1                               0                               0   \n",
       "2                               0                               0   \n",
       "3                               0                               0   \n",
       "4                               0                               0   \n",
       "...                           ...                             ...   \n",
       "4272                            0                               0   \n",
       "4273                            0                               0   \n",
       "4274                            0                               0   \n",
       "4275                            0                               0   \n",
       "4276                            0                               0   \n",
       "\n",
       "      job_title_Architect  job_title_DBA  job_title_Data Scientist  \\\n",
       "0                       0              0                         0   \n",
       "1                       0              1                         0   \n",
       "2                       0              1                         0   \n",
       "3                       0              1                         0   \n",
       "4                       0              0                         0   \n",
       "...                   ...            ...                       ...   \n",
       "4272                    0              0                         0   \n",
       "4273                    0              1                         0   \n",
       "4274                    0              0                         0   \n",
       "4275                    0              1                         0   \n",
       "4276                    0              1                         0   \n",
       "\n",
       "      job_title_Developer  job_title_Engineer  job_title_Manager  \\\n",
       "0                       1                   0                  0   \n",
       "1                       0                   0                  0   \n",
       "2                       0                   0                  0   \n",
       "3                       0                   0                  0   \n",
       "4                       1                   0                  0   \n",
       "...                   ...                 ...                ...   \n",
       "4272                    1                   0                  0   \n",
       "4273                    0                   0                  0   \n",
       "4274                    1                   0                  0   \n",
       "4275                    0                   0                  0   \n",
       "4276                    0                   0                  0   \n",
       "\n",
       "      job_title_Other  job_title_Principal database engineer  job_title_Sales  \\\n",
       "0                   0                                      0                0   \n",
       "1                   0                                      0                0   \n",
       "2                   0                                      0                0   \n",
       "3                   0                                      0                0   \n",
       "4                   0                                      0                0   \n",
       "...               ...                                    ...              ...   \n",
       "4272                0                                      0                0   \n",
       "4273                0                                      0                0   \n",
       "4274                0                                      0                0   \n",
       "4275                0                                      0                0   \n",
       "4276                0                                      0                0   \n",
       "\n",
       "      job_title_Sr Consultant   education_Bachelors (4 years)  \\\n",
       "0                            0                              1   \n",
       "1                            0                              1   \n",
       "2                            0                              0   \n",
       "3                            0                              1   \n",
       "4                            0                              0   \n",
       "...                        ...                            ...   \n",
       "4272                         0                              1   \n",
       "4273                         0                              1   \n",
       "4274                         0                              1   \n",
       "4275                         0                              1   \n",
       "4276                         0                              0   \n",
       "\n",
       "      education_Doctorate/PhD  education_Masters  \\\n",
       "0                           0                  0   \n",
       "1                           0                  0   \n",
       "2                           0                  1   \n",
       "3                           0                  0   \n",
       "4                           0                  1   \n",
       "...                       ...                ...   \n",
       "4272                        0                  0   \n",
       "4273                        0                  0   \n",
       "4274                        0                  0   \n",
       "4275                        0                  0   \n",
       "4276                        0                  1   \n",
       "\n",
       "      education_None (no degree completed)  \\\n",
       "0                                        0   \n",
       "1                                        0   \n",
       "2                                        0   \n",
       "3                                        0   \n",
       "4                                        0   \n",
       "...                                    ...   \n",
       "4272                                     0   \n",
       "4273                                     0   \n",
       "4274                                     0   \n",
       "4275                                     0   \n",
       "4276                                     0   \n",
       "\n",
       "      is_education_computer_related_Unknown  is_education_computer_related_Yes  \n",
       "0                                         0                                  1  \n",
       "1                                         0                                  1  \n",
       "2                                         0                                  1  \n",
       "3                                         0                                  0  \n",
       "4                                         0                                  1  \n",
       "...                                     ...                                ...  \n",
       "4272                                      0                                  0  \n",
       "4273                                      0                                  0  \n",
       "4274                                      0                                  0  \n",
       "4275                                      0                                  1  \n",
       "4276                                      0                                  0  \n",
       "\n",
       "[4261 rows x 25 columns]"
      ]
     },
     "execution_count": 17,
     "metadata": {},
     "output_type": "execute_result"
    }
   ],
   "source": [
    "final_data"
   ]
  },
  {
   "cell_type": "code",
   "execution_count": 18,
   "id": "4f9d30bb18a97c14",
   "metadata": {
    "ExecuteTime": {
     "end_time": "2024-04-16T03:04:28.829396Z",
     "start_time": "2024-04-16T03:04:28.814645Z"
    },
    "collapsed": false,
    "jupyter": {
     "outputs_hidden": false
    }
   },
   "outputs": [
    {
     "name": "stdout",
     "output_type": "stream",
     "text": [
      "Training Set Dimensions: (3408, 24)\n",
      "Validation Set Dimensions: (853, 24)\n"
     ]
    }
   ],
   "source": [
    "y = final_data['salary']\n",
    "X = final_data.drop(columns=['salary'])\n",
    "\n",
    "X_train, X_test, y_train, y_test = train_test_split(X, y, test_size=0.2)\n",
    "print(\"Training Set Dimensions:\", X_train.shape)\n",
    "print(\"Validation Set Dimensions:\", X_test.shape)"
   ]
  },
  {
   "cell_type": "code",
   "execution_count": 19,
   "id": "32f3debe4d66eba0",
   "metadata": {
    "ExecuteTime": {
     "end_time": "2024-04-16T03:04:28.837976Z",
     "start_time": "2024-04-16T03:04:28.830407Z"
    },
    "collapsed": false,
    "jupyter": {
     "outputs_hidden": false
    }
   },
   "outputs": [
    {
     "data": {
      "text/plain": [
       "['job_years', 'hours_per_week', 'telecommute_days_per_week']"
      ]
     },
     "execution_count": 19,
     "metadata": {},
     "output_type": "execute_result"
    }
   ],
   "source": [
    "# select numerical features\n",
    "num_cols = ['job_years','hours_per_week','telecommute_days_per_week']\n",
    "num_cols"
   ]
  },
  {
   "cell_type": "code",
   "execution_count": 20,
   "id": "d2e6614dd0a3ba55",
   "metadata": {
    "ExecuteTime": {
     "end_time": "2024-04-16T03:04:28.852071Z",
     "start_time": "2024-04-16T03:04:28.838983Z"
    },
    "collapsed": false,
    "jupyter": {
     "outputs_hidden": false
    }
   },
   "outputs": [],
   "source": [
    "# Apply standard scaling on numeric data\n",
    "scaler = StandardScaler()\n",
    "scaler.fit(X_train[num_cols])\n",
    "X_train[num_cols] = scaler.transform(X_train[num_cols])"
   ]
  },
  {
   "cell_type": "code",
   "execution_count": 21,
   "id": "d31f75d1f29af4ba",
   "metadata": {
    "ExecuteTime": {
     "end_time": "2024-04-16T03:04:28.873796Z",
     "start_time": "2024-04-16T03:04:28.853076Z"
    },
    "collapsed": false,
    "jupyter": {
     "outputs_hidden": false
    }
   },
   "outputs": [
    {
     "data": {
      "text/html": [
       "<div>\n",
       "<style scoped>\n",
       "    .dataframe tbody tr th:only-of-type {\n",
       "        vertical-align: middle;\n",
       "    }\n",
       "\n",
       "    .dataframe tbody tr th {\n",
       "        vertical-align: top;\n",
       "    }\n",
       "\n",
       "    .dataframe thead th {\n",
       "        text-align: right;\n",
       "    }\n",
       "</style>\n",
       "<table border=\"1\" class=\"dataframe\">\n",
       "  <thead>\n",
       "    <tr style=\"text-align: right;\">\n",
       "      <th></th>\n",
       "      <th>job_years</th>\n",
       "      <th>is_manager</th>\n",
       "      <th>hours_per_week</th>\n",
       "      <th>telecommute_days_per_week</th>\n",
       "      <th>certifications</th>\n",
       "      <th>employment_status_Independent or freelancer or company owner</th>\n",
       "      <th>employment_status_Part time</th>\n",
       "      <th>job_title_Analytics consultant</th>\n",
       "      <th>job_title_Architect</th>\n",
       "      <th>job_title_DBA</th>\n",
       "      <th>job_title_Data Scientist</th>\n",
       "      <th>job_title_Developer</th>\n",
       "      <th>job_title_Engineer</th>\n",
       "      <th>job_title_Manager</th>\n",
       "      <th>job_title_Other</th>\n",
       "      <th>job_title_Principal database engineer</th>\n",
       "      <th>job_title_Sales</th>\n",
       "      <th>job_title_Sr Consultant</th>\n",
       "      <th>education_Bachelors (4 years)</th>\n",
       "      <th>education_Doctorate/PhD</th>\n",
       "      <th>education_Masters</th>\n",
       "      <th>education_None (no degree completed)</th>\n",
       "      <th>is_education_computer_related_Unknown</th>\n",
       "      <th>is_education_computer_related_Yes</th>\n",
       "    </tr>\n",
       "  </thead>\n",
       "  <tbody>\n",
       "    <tr>\n",
       "      <th>2119</th>\n",
       "      <td>-0.137770</td>\n",
       "      <td>1</td>\n",
       "      <td>-0.463874</td>\n",
       "      <td>-0.014686</td>\n",
       "      <td>1</td>\n",
       "      <td>0</td>\n",
       "      <td>0</td>\n",
       "      <td>0</td>\n",
       "      <td>0</td>\n",
       "      <td>0</td>\n",
       "      <td>0</td>\n",
       "      <td>0</td>\n",
       "      <td>1</td>\n",
       "      <td>0</td>\n",
       "      <td>0</td>\n",
       "      <td>0</td>\n",
       "      <td>0</td>\n",
       "      <td>0</td>\n",
       "      <td>1</td>\n",
       "      <td>0</td>\n",
       "      <td>0</td>\n",
       "      <td>0</td>\n",
       "      <td>0</td>\n",
       "      <td>0</td>\n",
       "    </tr>\n",
       "    <tr>\n",
       "      <th>1140</th>\n",
       "      <td>-0.233830</td>\n",
       "      <td>0</td>\n",
       "      <td>-0.472474</td>\n",
       "      <td>-0.625046</td>\n",
       "      <td>1</td>\n",
       "      <td>0</td>\n",
       "      <td>0</td>\n",
       "      <td>0</td>\n",
       "      <td>0</td>\n",
       "      <td>1</td>\n",
       "      <td>0</td>\n",
       "      <td>0</td>\n",
       "      <td>0</td>\n",
       "      <td>0</td>\n",
       "      <td>0</td>\n",
       "      <td>0</td>\n",
       "      <td>0</td>\n",
       "      <td>0</td>\n",
       "      <td>1</td>\n",
       "      <td>0</td>\n",
       "      <td>0</td>\n",
       "      <td>0</td>\n",
       "      <td>0</td>\n",
       "      <td>1</td>\n",
       "    </tr>\n",
       "    <tr>\n",
       "      <th>2024</th>\n",
       "      <td>0.027789</td>\n",
       "      <td>0</td>\n",
       "      <td>-0.292479</td>\n",
       "      <td>-0.625046</td>\n",
       "      <td>0</td>\n",
       "      <td>0</td>\n",
       "      <td>0</td>\n",
       "      <td>0</td>\n",
       "      <td>0</td>\n",
       "      <td>0</td>\n",
       "      <td>0</td>\n",
       "      <td>0</td>\n",
       "      <td>0</td>\n",
       "      <td>0</td>\n",
       "      <td>0</td>\n",
       "      <td>0</td>\n",
       "      <td>0</td>\n",
       "      <td>0</td>\n",
       "      <td>0</td>\n",
       "      <td>0</td>\n",
       "      <td>0</td>\n",
       "      <td>1</td>\n",
       "      <td>1</td>\n",
       "      <td>0</td>\n",
       "    </tr>\n",
       "    <tr>\n",
       "      <th>1077</th>\n",
       "      <td>1.764907</td>\n",
       "      <td>0</td>\n",
       "      <td>-0.472474</td>\n",
       "      <td>-0.014686</td>\n",
       "      <td>0</td>\n",
       "      <td>0</td>\n",
       "      <td>0</td>\n",
       "      <td>0</td>\n",
       "      <td>0</td>\n",
       "      <td>1</td>\n",
       "      <td>0</td>\n",
       "      <td>0</td>\n",
       "      <td>0</td>\n",
       "      <td>0</td>\n",
       "      <td>0</td>\n",
       "      <td>0</td>\n",
       "      <td>0</td>\n",
       "      <td>0</td>\n",
       "      <td>0</td>\n",
       "      <td>0</td>\n",
       "      <td>0</td>\n",
       "      <td>1</td>\n",
       "      <td>1</td>\n",
       "      <td>0</td>\n",
       "    </tr>\n",
       "    <tr>\n",
       "      <th>827</th>\n",
       "      <td>-0.733515</td>\n",
       "      <td>0</td>\n",
       "      <td>-0.472474</td>\n",
       "      <td>1.206034</td>\n",
       "      <td>0</td>\n",
       "      <td>0</td>\n",
       "      <td>0</td>\n",
       "      <td>0</td>\n",
       "      <td>0</td>\n",
       "      <td>0</td>\n",
       "      <td>0</td>\n",
       "      <td>1</td>\n",
       "      <td>0</td>\n",
       "      <td>0</td>\n",
       "      <td>0</td>\n",
       "      <td>0</td>\n",
       "      <td>0</td>\n",
       "      <td>0</td>\n",
       "      <td>1</td>\n",
       "      <td>0</td>\n",
       "      <td>0</td>\n",
       "      <td>0</td>\n",
       "      <td>0</td>\n",
       "      <td>1</td>\n",
       "    </tr>\n",
       "    <tr>\n",
       "      <th>...</th>\n",
       "      <td>...</td>\n",
       "      <td>...</td>\n",
       "      <td>...</td>\n",
       "      <td>...</td>\n",
       "      <td>...</td>\n",
       "      <td>...</td>\n",
       "      <td>...</td>\n",
       "      <td>...</td>\n",
       "      <td>...</td>\n",
       "      <td>...</td>\n",
       "      <td>...</td>\n",
       "      <td>...</td>\n",
       "      <td>...</td>\n",
       "      <td>...</td>\n",
       "      <td>...</td>\n",
       "      <td>...</td>\n",
       "      <td>...</td>\n",
       "      <td>...</td>\n",
       "      <td>...</td>\n",
       "      <td>...</td>\n",
       "      <td>...</td>\n",
       "      <td>...</td>\n",
       "      <td>...</td>\n",
       "      <td>...</td>\n",
       "    </tr>\n",
       "    <tr>\n",
       "      <th>4043</th>\n",
       "      <td>0.265854</td>\n",
       "      <td>0</td>\n",
       "      <td>-0.472474</td>\n",
       "      <td>-0.625046</td>\n",
       "      <td>1</td>\n",
       "      <td>0</td>\n",
       "      <td>0</td>\n",
       "      <td>0</td>\n",
       "      <td>0</td>\n",
       "      <td>1</td>\n",
       "      <td>0</td>\n",
       "      <td>0</td>\n",
       "      <td>0</td>\n",
       "      <td>0</td>\n",
       "      <td>0</td>\n",
       "      <td>0</td>\n",
       "      <td>0</td>\n",
       "      <td>0</td>\n",
       "      <td>1</td>\n",
       "      <td>0</td>\n",
       "      <td>0</td>\n",
       "      <td>0</td>\n",
       "      <td>0</td>\n",
       "      <td>0</td>\n",
       "    </tr>\n",
       "    <tr>\n",
       "      <th>1128</th>\n",
       "      <td>-0.435203</td>\n",
       "      <td>1</td>\n",
       "      <td>-0.443806</td>\n",
       "      <td>2.426754</td>\n",
       "      <td>0</td>\n",
       "      <td>0</td>\n",
       "      <td>0</td>\n",
       "      <td>0</td>\n",
       "      <td>0</td>\n",
       "      <td>0</td>\n",
       "      <td>0</td>\n",
       "      <td>1</td>\n",
       "      <td>0</td>\n",
       "      <td>0</td>\n",
       "      <td>0</td>\n",
       "      <td>0</td>\n",
       "      <td>0</td>\n",
       "      <td>0</td>\n",
       "      <td>0</td>\n",
       "      <td>0</td>\n",
       "      <td>0</td>\n",
       "      <td>1</td>\n",
       "      <td>1</td>\n",
       "      <td>0</td>\n",
       "    </tr>\n",
       "    <tr>\n",
       "      <th>171</th>\n",
       "      <td>-0.435203</td>\n",
       "      <td>1</td>\n",
       "      <td>-0.443806</td>\n",
       "      <td>2.426754</td>\n",
       "      <td>0</td>\n",
       "      <td>0</td>\n",
       "      <td>0</td>\n",
       "      <td>0</td>\n",
       "      <td>0</td>\n",
       "      <td>0</td>\n",
       "      <td>0</td>\n",
       "      <td>1</td>\n",
       "      <td>0</td>\n",
       "      <td>0</td>\n",
       "      <td>0</td>\n",
       "      <td>0</td>\n",
       "      <td>0</td>\n",
       "      <td>0</td>\n",
       "      <td>0</td>\n",
       "      <td>0</td>\n",
       "      <td>0</td>\n",
       "      <td>1</td>\n",
       "      <td>1</td>\n",
       "      <td>0</td>\n",
       "    </tr>\n",
       "    <tr>\n",
       "      <th>1549</th>\n",
       "      <td>0.265854</td>\n",
       "      <td>1</td>\n",
       "      <td>-0.472474</td>\n",
       "      <td>2.426754</td>\n",
       "      <td>1</td>\n",
       "      <td>0</td>\n",
       "      <td>0</td>\n",
       "      <td>0</td>\n",
       "      <td>0</td>\n",
       "      <td>0</td>\n",
       "      <td>0</td>\n",
       "      <td>0</td>\n",
       "      <td>0</td>\n",
       "      <td>1</td>\n",
       "      <td>0</td>\n",
       "      <td>0</td>\n",
       "      <td>0</td>\n",
       "      <td>0</td>\n",
       "      <td>1</td>\n",
       "      <td>0</td>\n",
       "      <td>0</td>\n",
       "      <td>0</td>\n",
       "      <td>0</td>\n",
       "      <td>1</td>\n",
       "    </tr>\n",
       "    <tr>\n",
       "      <th>4013</th>\n",
       "      <td>0.265854</td>\n",
       "      <td>1</td>\n",
       "      <td>-0.472474</td>\n",
       "      <td>-0.625046</td>\n",
       "      <td>0</td>\n",
       "      <td>0</td>\n",
       "      <td>0</td>\n",
       "      <td>0</td>\n",
       "      <td>0</td>\n",
       "      <td>0</td>\n",
       "      <td>0</td>\n",
       "      <td>0</td>\n",
       "      <td>0</td>\n",
       "      <td>1</td>\n",
       "      <td>0</td>\n",
       "      <td>0</td>\n",
       "      <td>0</td>\n",
       "      <td>0</td>\n",
       "      <td>0</td>\n",
       "      <td>0</td>\n",
       "      <td>0</td>\n",
       "      <td>1</td>\n",
       "      <td>1</td>\n",
       "      <td>0</td>\n",
       "    </tr>\n",
       "  </tbody>\n",
       "</table>\n",
       "<p>3408 rows × 24 columns</p>\n",
       "</div>"
      ],
      "text/plain": [
       "      job_years  is_manager  hours_per_week  telecommute_days_per_week  \\\n",
       "2119  -0.137770           1       -0.463874                  -0.014686   \n",
       "1140  -0.233830           0       -0.472474                  -0.625046   \n",
       "2024   0.027789           0       -0.292479                  -0.625046   \n",
       "1077   1.764907           0       -0.472474                  -0.014686   \n",
       "827   -0.733515           0       -0.472474                   1.206034   \n",
       "...         ...         ...             ...                        ...   \n",
       "4043   0.265854           0       -0.472474                  -0.625046   \n",
       "1128  -0.435203           1       -0.443806                   2.426754   \n",
       "171   -0.435203           1       -0.443806                   2.426754   \n",
       "1549   0.265854           1       -0.472474                   2.426754   \n",
       "4013   0.265854           1       -0.472474                  -0.625046   \n",
       "\n",
       "      certifications  \\\n",
       "2119               1   \n",
       "1140               1   \n",
       "2024               0   \n",
       "1077               0   \n",
       "827                0   \n",
       "...              ...   \n",
       "4043               1   \n",
       "1128               0   \n",
       "171                0   \n",
       "1549               1   \n",
       "4013               0   \n",
       "\n",
       "      employment_status_Independent or freelancer or company owner  \\\n",
       "2119                                                  0              \n",
       "1140                                                  0              \n",
       "2024                                                  0              \n",
       "1077                                                  0              \n",
       "827                                                   0              \n",
       "...                                                 ...              \n",
       "4043                                                  0              \n",
       "1128                                                  0              \n",
       "171                                                   0              \n",
       "1549                                                  0              \n",
       "4013                                                  0              \n",
       "\n",
       "      employment_status_Part time  job_title_Analytics consultant  \\\n",
       "2119                            0                               0   \n",
       "1140                            0                               0   \n",
       "2024                            0                               0   \n",
       "1077                            0                               0   \n",
       "827                             0                               0   \n",
       "...                           ...                             ...   \n",
       "4043                            0                               0   \n",
       "1128                            0                               0   \n",
       "171                             0                               0   \n",
       "1549                            0                               0   \n",
       "4013                            0                               0   \n",
       "\n",
       "      job_title_Architect  job_title_DBA  job_title_Data Scientist  \\\n",
       "2119                    0              0                         0   \n",
       "1140                    0              1                         0   \n",
       "2024                    0              0                         0   \n",
       "1077                    0              1                         0   \n",
       "827                     0              0                         0   \n",
       "...                   ...            ...                       ...   \n",
       "4043                    0              1                         0   \n",
       "1128                    0              0                         0   \n",
       "171                     0              0                         0   \n",
       "1549                    0              0                         0   \n",
       "4013                    0              0                         0   \n",
       "\n",
       "      job_title_Developer  job_title_Engineer  job_title_Manager  \\\n",
       "2119                    0                   1                  0   \n",
       "1140                    0                   0                  0   \n",
       "2024                    0                   0                  0   \n",
       "1077                    0                   0                  0   \n",
       "827                     1                   0                  0   \n",
       "...                   ...                 ...                ...   \n",
       "4043                    0                   0                  0   \n",
       "1128                    1                   0                  0   \n",
       "171                     1                   0                  0   \n",
       "1549                    0                   0                  1   \n",
       "4013                    0                   0                  1   \n",
       "\n",
       "      job_title_Other  job_title_Principal database engineer  job_title_Sales  \\\n",
       "2119                0                                      0                0   \n",
       "1140                0                                      0                0   \n",
       "2024                0                                      0                0   \n",
       "1077                0                                      0                0   \n",
       "827                 0                                      0                0   \n",
       "...               ...                                    ...              ...   \n",
       "4043                0                                      0                0   \n",
       "1128                0                                      0                0   \n",
       "171                 0                                      0                0   \n",
       "1549                0                                      0                0   \n",
       "4013                0                                      0                0   \n",
       "\n",
       "      job_title_Sr Consultant   education_Bachelors (4 years)  \\\n",
       "2119                         0                              1   \n",
       "1140                         0                              1   \n",
       "2024                         0                              0   \n",
       "1077                         0                              0   \n",
       "827                          0                              1   \n",
       "...                        ...                            ...   \n",
       "4043                         0                              1   \n",
       "1128                         0                              0   \n",
       "171                          0                              0   \n",
       "1549                         0                              1   \n",
       "4013                         0                              0   \n",
       "\n",
       "      education_Doctorate/PhD  education_Masters  \\\n",
       "2119                        0                  0   \n",
       "1140                        0                  0   \n",
       "2024                        0                  0   \n",
       "1077                        0                  0   \n",
       "827                         0                  0   \n",
       "...                       ...                ...   \n",
       "4043                        0                  0   \n",
       "1128                        0                  0   \n",
       "171                         0                  0   \n",
       "1549                        0                  0   \n",
       "4013                        0                  0   \n",
       "\n",
       "      education_None (no degree completed)  \\\n",
       "2119                                     0   \n",
       "1140                                     0   \n",
       "2024                                     1   \n",
       "1077                                     1   \n",
       "827                                      0   \n",
       "...                                    ...   \n",
       "4043                                     0   \n",
       "1128                                     1   \n",
       "171                                      1   \n",
       "1549                                     0   \n",
       "4013                                     1   \n",
       "\n",
       "      is_education_computer_related_Unknown  is_education_computer_related_Yes  \n",
       "2119                                      0                                  0  \n",
       "1140                                      0                                  1  \n",
       "2024                                      1                                  0  \n",
       "1077                                      1                                  0  \n",
       "827                                       0                                  1  \n",
       "...                                     ...                                ...  \n",
       "4043                                      0                                  0  \n",
       "1128                                      1                                  0  \n",
       "171                                       1                                  0  \n",
       "1549                                      0                                  1  \n",
       "4013                                      1                                  0  \n",
       "\n",
       "[3408 rows x 24 columns]"
      ]
     },
     "execution_count": 21,
     "metadata": {},
     "output_type": "execute_result"
    }
   ],
   "source": [
    "X_train"
   ]
  },
  {
   "cell_type": "code",
   "execution_count": 22,
   "id": "bbc45041f152ac22",
   "metadata": {
    "ExecuteTime": {
     "end_time": "2024-04-16T03:04:28.905604Z",
     "start_time": "2024-04-16T03:04:28.875803Z"
    },
    "collapsed": false,
    "jupyter": {
     "outputs_hidden": false
    }
   },
   "outputs": [
    {
     "data": {
      "text/html": [
       "<style>#sk-container-id-1 {color: black;}#sk-container-id-1 pre{padding: 0;}#sk-container-id-1 div.sk-toggleable {background-color: white;}#sk-container-id-1 label.sk-toggleable__label {cursor: pointer;display: block;width: 100%;margin-bottom: 0;padding: 0.3em;box-sizing: border-box;text-align: center;}#sk-container-id-1 label.sk-toggleable__label-arrow:before {content: \"▸\";float: left;margin-right: 0.25em;color: #696969;}#sk-container-id-1 label.sk-toggleable__label-arrow:hover:before {color: black;}#sk-container-id-1 div.sk-estimator:hover label.sk-toggleable__label-arrow:before {color: black;}#sk-container-id-1 div.sk-toggleable__content {max-height: 0;max-width: 0;overflow: hidden;text-align: left;background-color: #f0f8ff;}#sk-container-id-1 div.sk-toggleable__content pre {margin: 0.2em;color: black;border-radius: 0.25em;background-color: #f0f8ff;}#sk-container-id-1 input.sk-toggleable__control:checked~div.sk-toggleable__content {max-height: 200px;max-width: 100%;overflow: auto;}#sk-container-id-1 input.sk-toggleable__control:checked~label.sk-toggleable__label-arrow:before {content: \"▾\";}#sk-container-id-1 div.sk-estimator input.sk-toggleable__control:checked~label.sk-toggleable__label {background-color: #d4ebff;}#sk-container-id-1 div.sk-label input.sk-toggleable__control:checked~label.sk-toggleable__label {background-color: #d4ebff;}#sk-container-id-1 input.sk-hidden--visually {border: 0;clip: rect(1px 1px 1px 1px);clip: rect(1px, 1px, 1px, 1px);height: 1px;margin: -1px;overflow: hidden;padding: 0;position: absolute;width: 1px;}#sk-container-id-1 div.sk-estimator {font-family: monospace;background-color: #f0f8ff;border: 1px dotted black;border-radius: 0.25em;box-sizing: border-box;margin-bottom: 0.5em;}#sk-container-id-1 div.sk-estimator:hover {background-color: #d4ebff;}#sk-container-id-1 div.sk-parallel-item::after {content: \"\";width: 100%;border-bottom: 1px solid gray;flex-grow: 1;}#sk-container-id-1 div.sk-label:hover label.sk-toggleable__label {background-color: #d4ebff;}#sk-container-id-1 div.sk-serial::before {content: \"\";position: absolute;border-left: 1px solid gray;box-sizing: border-box;top: 0;bottom: 0;left: 50%;z-index: 0;}#sk-container-id-1 div.sk-serial {display: flex;flex-direction: column;align-items: center;background-color: white;padding-right: 0.2em;padding-left: 0.2em;position: relative;}#sk-container-id-1 div.sk-item {position: relative;z-index: 1;}#sk-container-id-1 div.sk-parallel {display: flex;align-items: stretch;justify-content: center;background-color: white;position: relative;}#sk-container-id-1 div.sk-item::before, #sk-container-id-1 div.sk-parallel-item::before {content: \"\";position: absolute;border-left: 1px solid gray;box-sizing: border-box;top: 0;bottom: 0;left: 50%;z-index: -1;}#sk-container-id-1 div.sk-parallel-item {display: flex;flex-direction: column;z-index: 1;position: relative;background-color: white;}#sk-container-id-1 div.sk-parallel-item:first-child::after {align-self: flex-end;width: 50%;}#sk-container-id-1 div.sk-parallel-item:last-child::after {align-self: flex-start;width: 50%;}#sk-container-id-1 div.sk-parallel-item:only-child::after {width: 0;}#sk-container-id-1 div.sk-dashed-wrapped {border: 1px dashed gray;margin: 0 0.4em 0.5em 0.4em;box-sizing: border-box;padding-bottom: 0.4em;background-color: white;}#sk-container-id-1 div.sk-label label {font-family: monospace;font-weight: bold;display: inline-block;line-height: 1.2em;}#sk-container-id-1 div.sk-label-container {text-align: center;}#sk-container-id-1 div.sk-container {/* jupyter's `normalize.less` sets `[hidden] { display: none; }` but bootstrap.min.css set `[hidden] { display: none !important; }` so we also need the `!important` here to be able to override the default hidden behavior on the sphinx rendered scikit-learn.org. See: https://github.com/scikit-learn/scikit-learn/issues/21755 */display: inline-block !important;position: relative;}#sk-container-id-1 div.sk-text-repr-fallback {display: none;}</style><div id=\"sk-container-id-1\" class=\"sk-top-container\"><div class=\"sk-text-repr-fallback\"><pre>LinearRegression()</pre><b>In a Jupyter environment, please rerun this cell to show the HTML representation or trust the notebook. <br />On GitHub, the HTML representation is unable to render, please try loading this page with nbviewer.org.</b></div><div class=\"sk-container\" hidden><div class=\"sk-item\"><div class=\"sk-estimator sk-toggleable\"><input class=\"sk-toggleable__control sk-hidden--visually\" id=\"sk-estimator-id-1\" type=\"checkbox\" checked><label for=\"sk-estimator-id-1\" class=\"sk-toggleable__label sk-toggleable__label-arrow\">LinearRegression</label><div class=\"sk-toggleable__content\"><pre>LinearRegression()</pre></div></div></div></div></div>"
      ],
      "text/plain": [
       "LinearRegression()"
      ]
     },
     "execution_count": 22,
     "metadata": {},
     "output_type": "execute_result"
    }
   ],
   "source": [
    "#Fitting a Linear Regression Model\n",
    "reg=LinearRegression()\n",
    "reg.fit(X_train, y_train)"
   ]
  },
  {
   "cell_type": "code",
   "execution_count": 23,
   "id": "2877cbe018500a52",
   "metadata": {
    "ExecuteTime": {
     "end_time": "2024-04-16T03:04:28.913280Z",
     "start_time": "2024-04-16T03:04:28.906613Z"
    },
    "collapsed": false,
    "jupyter": {
     "outputs_hidden": false
    }
   },
   "outputs": [
    {
     "data": {
      "text/plain": [
       "array([  177.9891458 ,    53.65108781,   191.78098587,   218.83096386,\n",
       "          31.02857623,   -14.80550362,    68.94534628, -2109.55601085,\n",
       "        1156.73458596,   913.64957546,   581.18264488,   588.64045796,\n",
       "        1114.68198394,   892.27150539,   178.29751493,  1059.1050766 ,\n",
       "         790.69326654,  3670.09403454,   305.49300266,   335.28622556,\n",
       "         163.84761024,   212.87300455,  -296.84538334,  -165.87471613])"
      ]
     },
     "execution_count": 23,
     "metadata": {},
     "output_type": "execute_result"
    }
   ],
   "source": [
    "reg.coef_"
   ]
  },
  {
   "cell_type": "code",
   "execution_count": 24,
   "id": "5901bfed70822cd1",
   "metadata": {
    "ExecuteTime": {
     "end_time": "2024-04-16T03:04:28.921195Z",
     "start_time": "2024-04-16T03:04:28.914286Z"
    },
    "collapsed": false,
    "jupyter": {
     "outputs_hidden": false
    }
   },
   "outputs": [
    {
     "data": {
      "text/plain": [
       "6116.319957225245"
      ]
     },
     "execution_count": 24,
     "metadata": {},
     "output_type": "execute_result"
    }
   ],
   "source": [
    "reg.intercept_"
   ]
  },
  {
   "cell_type": "code",
   "execution_count": 25,
   "id": "4f2eb2fe9618846d",
   "metadata": {
    "ExecuteTime": {
     "end_time": "2024-04-16T03:04:28.933475Z",
     "start_time": "2024-04-16T03:04:28.923210Z"
    },
    "collapsed": false,
    "jupyter": {
     "outputs_hidden": false
    }
   },
   "outputs": [
    {
     "data": {
      "text/plain": [
       "212.9970734317194"
      ]
     },
     "execution_count": 25,
     "metadata": {},
     "output_type": "execute_result"
    }
   ],
   "source": [
    "# Normalized MSE (Dividing by mean)\n",
    "mean_squared_error(y_train,reg.predict(X_train))/np.mean(y_train)"
   ]
  },
  {
   "cell_type": "code",
   "execution_count": 26,
   "id": "bd2766b9d3f9b121",
   "metadata": {
    "ExecuteTime": {
     "end_time": "2024-04-16T03:04:28.945339Z",
     "start_time": "2024-04-16T03:04:28.935484Z"
    },
    "collapsed": false,
    "jupyter": {
     "outputs_hidden": false
    }
   },
   "outputs": [
    {
     "data": {
      "text/plain": [
       "0.1234002777248456"
      ]
     },
     "execution_count": 26,
     "metadata": {},
     "output_type": "execute_result"
    }
   ],
   "source": [
    "mean_absolute_error(y_train,reg.predict(X_train))/np.mean(y_train)"
   ]
  },
  {
   "cell_type": "code",
   "execution_count": 27,
   "id": "cba72bb89807913f",
   "metadata": {
    "ExecuteTime": {
     "end_time": "2024-04-16T03:04:28.953132Z",
     "start_time": "2024-04-16T03:04:28.946350Z"
    },
    "collapsed": false,
    "jupyter": {
     "outputs_hidden": false
    }
   },
   "outputs": [],
   "source": [
    "# Predict on the test data\n",
    "y_pred = reg.predict(X_test)"
   ]
  },
  {
   "cell_type": "code",
   "execution_count": 28,
   "id": "1211218e1e4a5e9d",
   "metadata": {
    "ExecuteTime": {
     "end_time": "2024-04-16T03:04:28.962815Z",
     "start_time": "2024-04-16T03:04:28.954139Z"
    },
    "collapsed": false,
    "jupyter": {
     "outputs_hidden": false
    }
   },
   "outputs": [
    {
     "name": "stdout",
     "output_type": "stream",
     "text": [
      "Mean Absolute Error: 1.2306989015717111\n",
      "Mean Squared Error: 11033.381104141617\n"
     ]
    }
   ],
   "source": [
    "#Evaluate the model on test data\n",
    "mse = mean_squared_error(y_pred, y_test)/np.mean(y_test)\n",
    "mae = mean_absolute_error(y_test, y_pred)/np.mean(y_test)\n",
    "print(\"Mean Absolute Error:\", mae)\n",
    "print(\"Mean Squared Error:\", mse)"
   ]
  },
  {
   "cell_type": "code",
   "execution_count": 28,
   "id": "5d1d46934961903",
   "metadata": {
    "ExecuteTime": {
     "end_time": "2024-04-16T03:04:28.966769Z",
     "start_time": "2024-04-16T03:04:28.963824Z"
    },
    "collapsed": false,
    "jupyter": {
     "outputs_hidden": false
    }
   },
   "outputs": [],
   "source": []
  }
 ],
 "metadata": {
  "kernelspec": {
   "display_name": "Python 3 (ipykernel)",
   "language": "python",
   "name": "python3"
  },
  "language_info": {
   "codemirror_mode": {
    "name": "ipython",
    "version": 3
   },
   "file_extension": ".py",
   "mimetype": "text/x-python",
   "name": "python",
   "nbconvert_exporter": "python",
   "pygments_lexer": "ipython3",
   "version": "3.11.5"
  }
 },
 "nbformat": 4,
 "nbformat_minor": 5
}
