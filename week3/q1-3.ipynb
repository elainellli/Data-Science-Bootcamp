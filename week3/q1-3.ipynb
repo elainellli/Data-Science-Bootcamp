{
 "cells": [
  {
   "cell_type": "code",
   "execution_count": 98,
   "id": "initial_id",
   "metadata": {
    "collapsed": true,
    "ExecuteTime": {
     "end_time": "2024-03-24T23:32:36.699931Z",
     "start_time": "2024-03-24T23:32:32.875283Z"
    }
   },
   "outputs": [
    {
     "name": "stderr",
     "output_type": "stream",
     "text": [
      "C:\\Users\\Lenovo\\AppData\\Local\\Temp\\ipykernel_16496\\3632939219.py:9: UserWarning: Could not infer format, so each element will be parsed individually, falling back to `dateutil`. To ensure parsing is consistent and as-expected, please specify a format.\n",
      "  df['hour_beginning'] = pd.to_datetime(df['hour_beginning'])\n"
     ]
    },
    {
     "data": {
      "text/plain": "       hour_beginning         location  Pedestrians  Towards Manhattan  \\\n0 2019-04-30 00:00:00  Brooklyn Bridge            3                  3   \n1 2019-12-31 22:00:00  Brooklyn Bridge           10                  9   \n2 2019-12-31 23:00:00  Brooklyn Bridge            2                  0   \n3 2019-12-31 21:00:00  Brooklyn Bridge           12                  0   \n4 2019-04-01 03:00:00  Brooklyn Bridge            1                  0   \n\n   Towards Brooklyn weather_summary  temperature  precipitation        lat  \\\n0                 0             NaN          NaN            NaN  40.708164   \n1                 1          cloudy         42.0         0.0005  40.708164   \n2                 2          cloudy         42.0         0.0004  40.708164   \n3                12          cloudy         42.0         0.0036  40.708164   \n4                 1     clear-night         36.0         0.0000  40.708164   \n\n        long events                              Location1  hour  month  year  \\\n0 -73.999509    NaN  (40.7081639691088, -73.9995087014816)     0      4  2019   \n1 -73.999509    NaN  (40.7081639691088, -73.9995087014816)    22     12  2019   \n2 -73.999509    NaN  (40.7081639691088, -73.9995087014816)    23     12  2019   \n3 -73.999509    NaN  (40.7081639691088, -73.9995087014816)    21     12  2019   \n4 -73.999509    NaN  (40.7081639691088, -73.9995087014816)     3      4  2019   \n\n         date day_name  \n0  2019-04-30  Tuesday  \n1  2019-12-31  Tuesday  \n2  2019-12-31  Tuesday  \n3  2019-12-31  Tuesday  \n4  2019-04-01   Monday  ",
      "text/html": "<div>\n<style scoped>\n    .dataframe tbody tr th:only-of-type {\n        vertical-align: middle;\n    }\n\n    .dataframe tbody tr th {\n        vertical-align: top;\n    }\n\n    .dataframe thead th {\n        text-align: right;\n    }\n</style>\n<table border=\"1\" class=\"dataframe\">\n  <thead>\n    <tr style=\"text-align: right;\">\n      <th></th>\n      <th>hour_beginning</th>\n      <th>location</th>\n      <th>Pedestrians</th>\n      <th>Towards Manhattan</th>\n      <th>Towards Brooklyn</th>\n      <th>weather_summary</th>\n      <th>temperature</th>\n      <th>precipitation</th>\n      <th>lat</th>\n      <th>long</th>\n      <th>events</th>\n      <th>Location1</th>\n      <th>hour</th>\n      <th>month</th>\n      <th>year</th>\n      <th>date</th>\n      <th>day_name</th>\n    </tr>\n  </thead>\n  <tbody>\n    <tr>\n      <th>0</th>\n      <td>2019-04-30 00:00:00</td>\n      <td>Brooklyn Bridge</td>\n      <td>3</td>\n      <td>3</td>\n      <td>0</td>\n      <td>NaN</td>\n      <td>NaN</td>\n      <td>NaN</td>\n      <td>40.708164</td>\n      <td>-73.999509</td>\n      <td>NaN</td>\n      <td>(40.7081639691088, -73.9995087014816)</td>\n      <td>0</td>\n      <td>4</td>\n      <td>2019</td>\n      <td>2019-04-30</td>\n      <td>Tuesday</td>\n    </tr>\n    <tr>\n      <th>1</th>\n      <td>2019-12-31 22:00:00</td>\n      <td>Brooklyn Bridge</td>\n      <td>10</td>\n      <td>9</td>\n      <td>1</td>\n      <td>cloudy</td>\n      <td>42.0</td>\n      <td>0.0005</td>\n      <td>40.708164</td>\n      <td>-73.999509</td>\n      <td>NaN</td>\n      <td>(40.7081639691088, -73.9995087014816)</td>\n      <td>22</td>\n      <td>12</td>\n      <td>2019</td>\n      <td>2019-12-31</td>\n      <td>Tuesday</td>\n    </tr>\n    <tr>\n      <th>2</th>\n      <td>2019-12-31 23:00:00</td>\n      <td>Brooklyn Bridge</td>\n      <td>2</td>\n      <td>0</td>\n      <td>2</td>\n      <td>cloudy</td>\n      <td>42.0</td>\n      <td>0.0004</td>\n      <td>40.708164</td>\n      <td>-73.999509</td>\n      <td>NaN</td>\n      <td>(40.7081639691088, -73.9995087014816)</td>\n      <td>23</td>\n      <td>12</td>\n      <td>2019</td>\n      <td>2019-12-31</td>\n      <td>Tuesday</td>\n    </tr>\n    <tr>\n      <th>3</th>\n      <td>2019-12-31 21:00:00</td>\n      <td>Brooklyn Bridge</td>\n      <td>12</td>\n      <td>0</td>\n      <td>12</td>\n      <td>cloudy</td>\n      <td>42.0</td>\n      <td>0.0036</td>\n      <td>40.708164</td>\n      <td>-73.999509</td>\n      <td>NaN</td>\n      <td>(40.7081639691088, -73.9995087014816)</td>\n      <td>21</td>\n      <td>12</td>\n      <td>2019</td>\n      <td>2019-12-31</td>\n      <td>Tuesday</td>\n    </tr>\n    <tr>\n      <th>4</th>\n      <td>2019-04-01 03:00:00</td>\n      <td>Brooklyn Bridge</td>\n      <td>1</td>\n      <td>0</td>\n      <td>1</td>\n      <td>clear-night</td>\n      <td>36.0</td>\n      <td>0.0000</td>\n      <td>40.708164</td>\n      <td>-73.999509</td>\n      <td>NaN</td>\n      <td>(40.7081639691088, -73.9995087014816)</td>\n      <td>3</td>\n      <td>4</td>\n      <td>2019</td>\n      <td>2019-04-01</td>\n      <td>Monday</td>\n    </tr>\n  </tbody>\n</table>\n</div>"
     },
     "execution_count": 98,
     "metadata": {},
     "output_type": "execute_result"
    }
   ],
   "source": [
    "import pandas as pd\n",
    "import matplotlib.pyplot as plt\n",
    "import seaborn as sns\n",
    "\n",
    "url = 'https://data.cityofnewyork.us/api/views/6fi9-q3ta/rows.csv?accessType=DOWNLOAD'\n",
    "df = pd.read_csv(url)\n",
    "\n",
    "df.head()\n",
    "df['hour_beginning'] = pd.to_datetime(df['hour_beginning'])\n",
    "\n",
    "df.info\n",
    "df['hour_beginning'].head(5)\n",
    "df['hour'] = df['hour_beginning'].dt.hour\n",
    "df['month'] = df['hour_beginning'].dt.month\n",
    "df['year'] = df['hour_beginning'].dt.year\n",
    "df['date'] = df['hour_beginning'].dt.date\n",
    "df['day_name'] = df['hour_beginning'].dt.day_name()\n",
    "df.head()\n"
   ]
  },
  {
   "cell_type": "code",
   "outputs": [
    {
     "data": {
      "text/plain": "       hour_beginning         location  Pedestrians  Towards Manhattan  \\\n0 2019-04-30 00:00:00  Brooklyn Bridge            3                  3   \n1 2019-12-31 22:00:00  Brooklyn Bridge           10                  9   \n2 2019-12-31 23:00:00  Brooklyn Bridge            2                  0   \n3 2019-12-31 21:00:00  Brooklyn Bridge           12                  0   \n4 2019-04-01 03:00:00  Brooklyn Bridge            1                  0   \n\n   Towards Brooklyn weather_summary  temperature  precipitation        lat  \\\n0                 0             NaN          NaN            NaN  40.708164   \n1                 1          cloudy         42.0         0.0005  40.708164   \n2                 2          cloudy         42.0         0.0004  40.708164   \n3                12          cloudy         42.0         0.0036  40.708164   \n4                 1     clear-night         36.0         0.0000  40.708164   \n\n        long events                              Location1  hour  month  year  \\\n0 -73.999509    NaN  (40.7081639691088, -73.9995087014816)     0      4  2019   \n1 -73.999509    NaN  (40.7081639691088, -73.9995087014816)    22     12  2019   \n2 -73.999509    NaN  (40.7081639691088, -73.9995087014816)    23     12  2019   \n3 -73.999509    NaN  (40.7081639691088, -73.9995087014816)    21     12  2019   \n4 -73.999509    NaN  (40.7081639691088, -73.9995087014816)     3      4  2019   \n\n         date day_name  \n0  2019-04-30  Tuesday  \n1  2019-12-31  Tuesday  \n2  2019-12-31  Tuesday  \n3  2019-12-31  Tuesday  \n4  2019-04-01   Monday  ",
      "text/html": "<div>\n<style scoped>\n    .dataframe tbody tr th:only-of-type {\n        vertical-align: middle;\n    }\n\n    .dataframe tbody tr th {\n        vertical-align: top;\n    }\n\n    .dataframe thead th {\n        text-align: right;\n    }\n</style>\n<table border=\"1\" class=\"dataframe\">\n  <thead>\n    <tr style=\"text-align: right;\">\n      <th></th>\n      <th>hour_beginning</th>\n      <th>location</th>\n      <th>Pedestrians</th>\n      <th>Towards Manhattan</th>\n      <th>Towards Brooklyn</th>\n      <th>weather_summary</th>\n      <th>temperature</th>\n      <th>precipitation</th>\n      <th>lat</th>\n      <th>long</th>\n      <th>events</th>\n      <th>Location1</th>\n      <th>hour</th>\n      <th>month</th>\n      <th>year</th>\n      <th>date</th>\n      <th>day_name</th>\n    </tr>\n  </thead>\n  <tbody>\n    <tr>\n      <th>0</th>\n      <td>2019-04-30 00:00:00</td>\n      <td>Brooklyn Bridge</td>\n      <td>3</td>\n      <td>3</td>\n      <td>0</td>\n      <td>NaN</td>\n      <td>NaN</td>\n      <td>NaN</td>\n      <td>40.708164</td>\n      <td>-73.999509</td>\n      <td>NaN</td>\n      <td>(40.7081639691088, -73.9995087014816)</td>\n      <td>0</td>\n      <td>4</td>\n      <td>2019</td>\n      <td>2019-04-30</td>\n      <td>Tuesday</td>\n    </tr>\n    <tr>\n      <th>1</th>\n      <td>2019-12-31 22:00:00</td>\n      <td>Brooklyn Bridge</td>\n      <td>10</td>\n      <td>9</td>\n      <td>1</td>\n      <td>cloudy</td>\n      <td>42.0</td>\n      <td>0.0005</td>\n      <td>40.708164</td>\n      <td>-73.999509</td>\n      <td>NaN</td>\n      <td>(40.7081639691088, -73.9995087014816)</td>\n      <td>22</td>\n      <td>12</td>\n      <td>2019</td>\n      <td>2019-12-31</td>\n      <td>Tuesday</td>\n    </tr>\n    <tr>\n      <th>2</th>\n      <td>2019-12-31 23:00:00</td>\n      <td>Brooklyn Bridge</td>\n      <td>2</td>\n      <td>0</td>\n      <td>2</td>\n      <td>cloudy</td>\n      <td>42.0</td>\n      <td>0.0004</td>\n      <td>40.708164</td>\n      <td>-73.999509</td>\n      <td>NaN</td>\n      <td>(40.7081639691088, -73.9995087014816)</td>\n      <td>23</td>\n      <td>12</td>\n      <td>2019</td>\n      <td>2019-12-31</td>\n      <td>Tuesday</td>\n    </tr>\n    <tr>\n      <th>3</th>\n      <td>2019-12-31 21:00:00</td>\n      <td>Brooklyn Bridge</td>\n      <td>12</td>\n      <td>0</td>\n      <td>12</td>\n      <td>cloudy</td>\n      <td>42.0</td>\n      <td>0.0036</td>\n      <td>40.708164</td>\n      <td>-73.999509</td>\n      <td>NaN</td>\n      <td>(40.7081639691088, -73.9995087014816)</td>\n      <td>21</td>\n      <td>12</td>\n      <td>2019</td>\n      <td>2019-12-31</td>\n      <td>Tuesday</td>\n    </tr>\n    <tr>\n      <th>4</th>\n      <td>2019-04-01 03:00:00</td>\n      <td>Brooklyn Bridge</td>\n      <td>1</td>\n      <td>0</td>\n      <td>1</td>\n      <td>clear-night</td>\n      <td>36.0</td>\n      <td>0.0000</td>\n      <td>40.708164</td>\n      <td>-73.999509</td>\n      <td>NaN</td>\n      <td>(40.7081639691088, -73.9995087014816)</td>\n      <td>3</td>\n      <td>4</td>\n      <td>2019</td>\n      <td>2019-04-01</td>\n      <td>Monday</td>\n    </tr>\n  </tbody>\n</table>\n</div>"
     },
     "execution_count": 58,
     "metadata": {},
     "output_type": "execute_result"
    }
   ],
   "source": [
    "weekdays = df.loc[df['day_name'].isin(['Monday', 'Tuesday', 'Wednesday', 'Thursday', 'Friday'])]\n",
    "weekdays.head()"
   ],
   "metadata": {
    "collapsed": false,
    "ExecuteTime": {
     "end_time": "2024-03-24T22:50:36.133377Z",
     "start_time": "2024-03-24T22:50:36.117925Z"
    }
   },
   "id": "841702666858294a",
   "execution_count": 58
  },
  {
   "cell_type": "code",
   "outputs": [],
   "source": [
    "pedestrians_each_day = weekdays.groupby('day_name')['Pedestrians'].sum()\n",
    "pedestrians_each_day.head()"
   ],
   "metadata": {
    "collapsed": false
   },
   "id": "e90a93c4420d3370",
   "execution_count": null
  },
  {
   "cell_type": "code",
   "outputs": [],
   "source": [
    "\n",
    "plt.figure(figsize=(12, 6))\n",
    "pedestrians_each_day.plot(kind='line')\n",
    "plt.title('Pedestrian Count each Day')\n",
    "plt.xlabel('day_name')\n",
    "plt.ylabel('Pedestrian Count')\n",
    "plt.grid(True)\n",
    "plt.tight_layout()\n",
    "plt.show()\n"
   ],
   "metadata": {
    "collapsed": false
   },
   "id": "1e723456ec58b1ad",
   "execution_count": null
  },
  {
   "cell_type": "code",
   "outputs": [],
   "source": [
    "data2019 = df.loc[(df['year'] == 2019) & (df['location']=='Brooklyn Bridge')]\n",
    "data2019.head()\n"
   ],
   "metadata": {
    "collapsed": false
   },
   "id": "2775fa0a4db59210",
   "execution_count": null
  },
  {
   "cell_type": "code",
   "outputs": [],
   "source": [
    "weather = pd.get_dummies(data2019['weather_summary'])\n",
    "weather.head()\n",
    "pedestrians_weather = pd.concat([data2019['Pedestrians'], weather])\n",
    "correlation_matrix = pedestrians_weather.corr()\n",
    "plt.figure(figsize=(8, 6))\n",
    "sns.heatmap(correlation_matrix, annot=True, cmap='coolwarm', fmt=\".2f\")\n",
    "plt.title('Correlation Matrix of Pedestrians and Temperature')\n",
    "plt.tight_layout()\n",
    "plt.show()"
   ],
   "metadata": {
    "collapsed": false
   },
   "id": "7d044a1c4bda1264",
   "execution_count": null
  },
  {
   "cell_type": "code",
   "outputs": [],
   "source": [
    "def time_categorize(hour):\n",
    "    if (6<=hour<12):\n",
    "        return 'morning'\n",
    "    elif (12<=hour<17):\n",
    "        return 'afternoon'\n",
    "    elif (17<=hour<20):\n",
    "        return 'evening'\n",
    "    else:\n",
    "        return 'night'\n",
    "\n",
    "df['time_of_day'] = df['hour'].apply(time_categorize)\n",
    "\n",
    "pedestrians_over_time = df.groupby('time_of_day')['Pedestrians'].sum()\n",
    "\n",
    "print(pedestrians_over_time)\n",
    "        "
   ],
   "metadata": {
    "collapsed": false
   },
   "id": "4e5c281810388e2f",
   "execution_count": null
  },
  {
   "cell_type": "code",
   "outputs": [],
   "source": [],
   "metadata": {
    "collapsed": false
   },
   "id": "ee7d4d2b16e65200"
  }
 ],
 "metadata": {
  "kernelspec": {
   "display_name": "Python 3",
   "language": "python",
   "name": "python3"
  },
  "language_info": {
   "codemirror_mode": {
    "name": "ipython",
    "version": 2
   },
   "file_extension": ".py",
   "mimetype": "text/x-python",
   "name": "python",
   "nbconvert_exporter": "python",
   "pygments_lexer": "ipython2",
   "version": "2.7.6"
  }
 },
 "nbformat": 4,
 "nbformat_minor": 5
}
