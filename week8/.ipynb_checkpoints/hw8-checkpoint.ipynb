{
 "cells": [
  {
   "cell_type": "code",
   "execution_count": 9,
   "id": "initial_id",
   "metadata": {
    "collapsed": true,
    "ExecuteTime": {
     "end_time": "2024-05-07T01:01:55.616899Z",
     "start_time": "2024-05-07T01:01:55.165693Z"
    }
   },
   "outputs": [
    {
     "name": "stdout",
     "output_type": "stream",
     "text": [
      "  Feature                  Threshold  \\\n",
      "0      RI  [0.3, 0.4, 0.5, 0.6, 0.7]   \n",
      "1      Na  [0.3, 0.4, 0.5, 0.6, 0.7]   \n",
      "2      Mg  [0.3, 0.4, 0.5, 0.6, 0.7]   \n",
      "3      Al  [0.3, 0.4, 0.5, 0.6, 0.7]   \n",
      "4      Si  [0.3, 0.4, 0.5, 0.6, 0.7]   \n",
      "5       K  [0.3, 0.4, 0.5, 0.6, 0.7]   \n",
      "6      Ca  [0.3, 0.4, 0.5, 0.6, 0.7]   \n",
      "7      Ba  [0.3, 0.4, 0.5, 0.6, 0.7]   \n",
      "8      Fe  [0.3, 0.4, 0.5, 0.6, 0.7]   \n",
      "\n",
      "                                            Accuracy  \\\n",
      "0  [0.2558139534883721, 0.046511627906976744, 0.0...   \n",
      "1  [0.23255813953488372, 0.18604651162790697, 0.0...   \n",
      "2  [0.2558139534883721, 0.023255813953488372, 0.0...   \n",
      "3  [0.20930232558139536, 0.09302325581395349, 0.0...   \n",
      "4           [0.2558139534883721, 0.0, 0.0, 0.0, 0.0]   \n",
      "5          [0.23255813953488372, 0.0, 0.0, 0.0, 0.0]   \n",
      "6  [0.2558139534883721, 0.046511627906976744, 0.0...   \n",
      "7           [0.2558139534883721, 0.0, 0.0, 0.0, 0.0]   \n",
      "8  [0.2558139534883721, 0.09302325581395349, 0.02...   \n",
      "\n",
      "                                           Precision  \\\n",
      "0  [0.2558139534883721, 0.046511627906976744, 0.0...   \n",
      "1  [0.23255813953488372, 0.18604651162790697, 0.0...   \n",
      "2  [0.2558139534883721, 0.023255813953488372, 0.0...   \n",
      "3  [0.20930232558139536, 0.09302325581395349, 0.0...   \n",
      "4           [0.2558139534883721, 0.0, 0.0, 0.0, 0.0]   \n",
      "5          [0.23255813953488372, 0.0, 0.0, 0.0, 0.0]   \n",
      "6  [0.2558139534883721, 0.046511627906976744, 0.0...   \n",
      "7           [0.2558139534883721, 0.0, 0.0, 0.0, 0.0]   \n",
      "8  [0.2558139534883721, 0.09302325581395349, 0.02...   \n",
      "\n",
      "                                              Recall  \n",
      "0  [0.2558139534883721, 0.046511627906976744, 0.0...  \n",
      "1  [0.23255813953488372, 0.18604651162790697, 0.0...  \n",
      "2  [0.2558139534883721, 0.023255813953488372, 0.0...  \n",
      "3  [0.20930232558139536, 0.09302325581395349, 0.0...  \n",
      "4           [0.2558139534883721, 0.0, 0.0, 0.0, 0.0]  \n",
      "5          [0.23255813953488372, 0.0, 0.0, 0.0, 0.0]  \n",
      "6  [0.2558139534883721, 0.046511627906976744, 0.0...  \n",
      "7           [0.2558139534883721, 0.0, 0.0, 0.0, 0.0]  \n",
      "8  [0.2558139534883721, 0.09302325581395349, 0.02...  \n"
     ]
    }
   ],
   "source": [
    "import pandas as pd\n",
    "from sklearn.model_selection import train_test_split\n",
    "from sklearn.preprocessing import StandardScaler, OneHotEncoder\n",
    "from sklearn.linear_model import LogisticRegression\n",
    "from sklearn.metrics import accuracy_score, precision_score, recall_score\n",
    "\n",
    "data = pd.read_csv(\"glass.csv\")\n",
    "\n",
    "features = ['RI', 'Na', 'Mg', 'Al', 'Si', 'K', 'Ca', 'Ba', 'Fe']\n",
    "results = []\n",
    "for feature in features:\n",
    "    X = data[[feature]]\n",
    "    y = data['Type']\n",
    "    \n",
    "    X_train, X_test, y_train, y_test = train_test_split(X, y, test_size=0.2, random_state=42)\n",
    "    \n",
    "    scaler = StandardScaler()\n",
    "    X_train_scaled = scaler.fit_transform(X_train)\n",
    "    X_test_scaled = scaler.transform(X_test)\n",
    "    \n",
    "    model = LogisticRegression(max_iter=1000)\n",
    "    model.fit(X_train_scaled, y_train)\n",
    "    \n",
    "    y_prob = model.predict_proba(X_test_scaled)\n",
    "    \n",
    "    def evaluate_threshold(threshold, y_true, y_prob):\n",
    "        y_pred = (y_prob[:, 1] >= threshold).astype(int)\n",
    "        accuracy = accuracy_score(y_true, y_pred)\n",
    "        precision = precision_score(y_true, y_pred, average='micro')\n",
    "        recall = recall_score(y_true, y_pred, average='micro')\n",
    "        return accuracy, precision, recall\n",
    "    \n",
    "    thresholds = [0.3, 0.4, 0.5, 0.6, 0.7]\n",
    "    \n",
    "    threshold_list = []\n",
    "    accuracy_list = []\n",
    "    precision_list = []\n",
    "    recall_list = []\n",
    "    \n",
    "    # Evaluate model performance for each threshold\n",
    "    for threshold in thresholds:\n",
    "        accuracy, precision, recall = evaluate_threshold(threshold, y_test, y_prob)\n",
    "        threshold_list.append(threshold)\n",
    "        accuracy_list.append(accuracy)\n",
    "        precision_list.append(precision)\n",
    "        recall_list.append(recall)\n",
    "        \n",
    "    results.append({\n",
    "        'Feature': feature,\n",
    "        'Threshold': threshold_list,\n",
    "        'Accuracy': accuracy_list,\n",
    "        'Precision': precision_list,\n",
    "        'Recall': recall_list\n",
    "    })\n",
    "results = pd.DataFrame(results)\n",
    "print(results)\n",
    "# You can repeat the same analysis for other columns by changing the target variable 'y' and rerunning the code\n"
   ]
  },
  {
   "cell_type": "markdown",
   "source": [],
   "metadata": {
    "collapsed": false
   },
   "id": "8c89bd5fd37be021"
  },
  {
   "cell_type": "code",
   "outputs": [
    {
     "name": "stdout",
     "output_type": "stream",
     "text": [
      "   Threshold  Accuracy  Precision    Recall\n",
      "0        0.3  0.255814   0.255814  0.255814\n",
      "1        0.4  0.093023   0.093023  0.093023\n",
      "2        0.5  0.023256   0.023256  0.023256\n",
      "3        0.6  0.000000   0.000000  0.000000\n",
      "4        0.7  0.000000   0.000000  0.000000\n"
     ]
    }
   ],
   "source": [
    "X_new = data.drop(columns=['Type'])\n",
    "y = data['Type']\n",
    "X_train, X_test, y_train, y_test = train_test_split(X, y, test_size=0.2, random_state=42)\n",
    "\n",
    "# Preprocess numerical features by standardizing them\n",
    "scaler = StandardScaler()\n",
    "X_train_scaled = scaler.fit_transform(X_train)\n",
    "X_test_scaled = scaler.transform(X_test)\n",
    "\n",
    "# Fit Logistic Regression model\n",
    "model = LogisticRegression(max_iter=1000)\n",
    "model.fit(X_train_scaled, y_train)\n",
    "\n",
    "# Predict probabilities for each class\n",
    "y_prob = model.predict_proba(X_test_scaled)\n",
    "\n",
    "# Function to evaluate model performance with different thresholds\n",
    "def evaluate_threshold(threshold, y_true, y_prob):\n",
    "    y_pred = (y_prob[:, 1] >= threshold).astype(int)\n",
    "    accuracy = accuracy_score(y_true, y_pred)\n",
    "    precision = precision_score(y_true, y_pred, average='micro')  # Set average to 'micro' for multiclass\n",
    "    recall = recall_score(y_true, y_pred, average='micro')  # Set average to 'micro' for multiclass\n",
    "    return accuracy, precision, recall\n",
    "\n",
    "# Define thresholds to try\n",
    "thresholds = [0.3, 0.4, 0.5, 0.6, 0.7]\n",
    "\n",
    "# Initialize lists to store results\n",
    "threshold_list = []\n",
    "accuracy_list = []\n",
    "precision_list = []\n",
    "recall_list = []\n",
    "\n",
    "# Evaluate model performance for each threshold\n",
    "for threshold in thresholds:\n",
    "    accuracy, precision, recall = evaluate_threshold(threshold, y_test, y_prob)\n",
    "    threshold_list.append(threshold)\n",
    "    accuracy_list.append(accuracy)\n",
    "    precision_list.append(precision)\n",
    "    recall_list.append(recall)\n",
    "\n",
    "# Create DataFrame from results\n",
    "results = pd.DataFrame({\n",
    "    'Threshold': threshold_list,\n",
    "    'Accuracy': accuracy_list,\n",
    "    'Precision': precision_list,\n",
    "    'Recall': recall_list\n",
    "})\n",
    "\n",
    "print(results)"
   ],
   "metadata": {
    "collapsed": false,
    "ExecuteTime": {
     "end_time": "2024-05-07T01:03:16.444865Z",
     "start_time": "2024-05-07T01:03:16.387944Z"
    }
   },
   "id": "c95816cfbfbafb22",
   "execution_count": 10
  },
  {
   "cell_type": "code",
   "outputs": [],
   "source": [],
   "metadata": {
    "collapsed": false
   },
   "id": "dbd1e9f3266d7ec8"
  }
 ],
 "metadata": {
  "kernelspec": {
   "display_name": "Python 3",
   "language": "python",
   "name": "python3"
  },
  "language_info": {
   "codemirror_mode": {
    "name": "ipython",
    "version": 2
   },
   "file_extension": ".py",
   "mimetype": "text/x-python",
   "name": "python",
   "nbconvert_exporter": "python",
   "pygments_lexer": "ipython2",
   "version": "2.7.6"
  }
 },
 "nbformat": 4,
 "nbformat_minor": 5
}
